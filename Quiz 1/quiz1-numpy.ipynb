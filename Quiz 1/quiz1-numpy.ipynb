{
 "cells": [
  {
   "cell_type": "markdown",
   "metadata": {},
   "source": [
    "# CMSC 197 (Machine Learning) Quiz #1"
   ]
  },
  {
   "cell_type": "markdown",
   "metadata": {},
   "source": [
    "#### Unit 1: Introduction to Numerical Computing Using Python <br>\n",
    "Submitted to: Ms. Ara Abigail Ambita <br>\n",
    "Submitted by: Alyssa Alexandra Lee"
   ]
  },
  {
   "cell_type": "code",
   "execution_count": 24,
   "metadata": {},
   "outputs": [
    {
     "name": "stdout",
     "output_type": "stream",
     "text": [
      "%pylab is deprecated, use %matplotlib inline and import the required libraries.\n",
      "Populating the interactive namespace from numpy and matplotlib\n"
     ]
    }
   ],
   "source": [
    "%pylab inline"
   ]
  },
  {
   "cell_type": "markdown",
   "metadata": {},
   "source": [
    "**PART 1**"
   ]
  },
  {
   "cell_type": "markdown",
   "metadata": {},
   "source": [
    "• Create 2 1D arrays, y_hat and y <br>\n",
    "     • y_hat --- ŷᵢ <br>\n",
    "     • y --- (yᵢ)"
   ]
  },
  {
   "cell_type": "markdown",
   "metadata": {},
   "source": [
    "• Initialize y_hat with 20 linearly spaced numbers between -1 and 1"
   ]
  },
  {
   "cell_type": "code",
   "execution_count": 25,
   "metadata": {},
   "outputs": [
    {
     "name": "stdout",
     "output_type": "stream",
     "text": [
      "y_hat array: [-1.         -0.89473684 -0.78947368 -0.68421053 -0.57894737 -0.47368421\n",
      " -0.36842105 -0.26315789 -0.15789474 -0.05263158  0.05263158  0.15789474\n",
      "  0.26315789  0.36842105  0.47368421  0.57894737  0.68421053  0.78947368\n",
      "  0.89473684  1.        ]\n"
     ]
    }
   ],
   "source": [
    "#We store the 20 linearly spaced numbers between -1 and 1 in y_hat variable\n",
    "y_hat = np.array(np.linspace(-1, 1, num=20))\n",
    "#Prints the y_hat array\n",
    "print(f\"y_hat array: {y_hat}\")"
   ]
  },
  {
   "cell_type": "markdown",
   "metadata": {},
   "source": [
    "• Initialize y with 20 linearly spaced numbers between 0 and 1"
   ]
  },
  {
   "cell_type": "code",
   "execution_count": 26,
   "metadata": {},
   "outputs": [
    {
     "name": "stdout",
     "output_type": "stream",
     "text": [
      "y array: [0.         0.05263158 0.10526316 0.15789474 0.21052632 0.26315789\n",
      " 0.31578947 0.36842105 0.42105263 0.47368421 0.52631579 0.57894737\n",
      " 0.63157895 0.68421053 0.73684211 0.78947368 0.84210526 0.89473684\n",
      " 0.94736842 1.        ]\n"
     ]
    }
   ],
   "source": [
    "#We store the 20 linearly spaced numbers between 0 and 1 in y variable\n",
    "y = np.array(np.linspace(0, 1, num=20))\n",
    "#Prints the y array\n",
    "print(f\"y array: {y}\")"
   ]
  },
  {
   "cell_type": "markdown",
   "metadata": {},
   "source": [
    "• Compute for the shape and dimension of y_hat and y."
   ]
  },
  {
   "cell_type": "code",
   "execution_count": 27,
   "metadata": {},
   "outputs": [
    {
     "data": {
      "text/plain": [
       "(20,)"
      ]
     },
     "execution_count": 27,
     "metadata": {},
     "output_type": "execute_result"
    }
   ],
   "source": [
    "#Shape of y_hat\n",
    "y_hat.shape"
   ]
  },
  {
   "cell_type": "markdown",
   "metadata": {},
   "source": [
    "The shape of y_hat is 20."
   ]
  },
  {
   "cell_type": "code",
   "execution_count": 28,
   "metadata": {},
   "outputs": [
    {
     "data": {
      "text/plain": [
       "1"
      ]
     },
     "execution_count": 28,
     "metadata": {},
     "output_type": "execute_result"
    }
   ],
   "source": [
    "#Dimension of y_hat\n",
    "y_hat.ndim"
   ]
  },
  {
   "cell_type": "markdown",
   "metadata": {},
   "source": [
    "The dimension of y_hat is 1."
   ]
  },
  {
   "cell_type": "code",
   "execution_count": 29,
   "metadata": {},
   "outputs": [
    {
     "data": {
      "text/plain": [
       "(20,)"
      ]
     },
     "execution_count": 29,
     "metadata": {},
     "output_type": "execute_result"
    }
   ],
   "source": [
    "#Shape of y\n",
    "y.shape"
   ]
  },
  {
   "cell_type": "markdown",
   "metadata": {},
   "source": [
    "The shape of y is 20."
   ]
  },
  {
   "cell_type": "code",
   "execution_count": 30,
   "metadata": {},
   "outputs": [
    {
     "data": {
      "text/plain": [
       "1"
      ]
     },
     "execution_count": 30,
     "metadata": {},
     "output_type": "execute_result"
    }
   ],
   "source": [
    "#Dimension of y\n",
    "y.ndim"
   ]
  },
  {
   "cell_type": "markdown",
   "metadata": {},
   "source": [
    "The dimension of y is 1."
   ]
  },
  {
   "cell_type": "markdown",
   "metadata": {},
   "source": [
    "• Create individual functions for each of the loss functions with y and y_hat as parameters"
   ]
  },
  {
   "cell_type": "markdown",
   "metadata": {},
   "source": [
    "Mean Squared Error (MSE) is the simplest and most common loss function that is usually utilized in linear regression models. The mean squared error, also called residual sum of squares, is:"
   ]
  },
  {
   "cell_type": "code",
   "execution_count": 31,
   "metadata": {},
   "outputs": [],
   "source": [
    "#Python function which returns the loss value using the MSE formula\n",
    "def meanSquaredError(y, y_hat):\n",
    "    #MSE formula\n",
    "    L = (sum((y_hat-y)**2))/len(y)\n",
    "    #Returns the loss value\n",
    "    return L"
   ]
  },
  {
   "cell_type": "markdown",
   "metadata": {},
   "source": [
    "Mean Absolute Error (MAE) is a loss function that is utilized for regression. It is similar to Mean Squared Error. It is shown below:"
   ]
  },
  {
   "cell_type": "code",
   "execution_count": 32,
   "metadata": {},
   "outputs": [],
   "source": [
    "#Python function which returns the loss value using the MAE formula\n",
    "def meanAbsoluteError(y, y_hat):\n",
    "    #MAE formula\n",
    "    L = (sum(abs(y_hat-y)))/len(y)\n",
    "    #Returns the loss value\n",
    "    return L"
   ]
  },
  {
   "cell_type": "markdown",
   "metadata": {},
   "source": [
    "Mean Squared Logarithmic Error (MSLE) is a loss function that is similar to MSE, however, it is calculated on a logarithmic scale. Target variable should be non-negative, but can be equal to zero. If the target is never zero, the addition of 1 in the logarithm can be dropped."
   ]
  },
  {
   "cell_type": "code",
   "execution_count": 33,
   "metadata": {},
   "outputs": [],
   "source": [
    "#Python function which returns the loss value using the MSLE formula\n",
    "def meanSquaredLogarithmicError(y, y_hat):\n",
    "    #MSLE formula\n",
    "    L = (sum((np.log(y_hat+1)-np.log(y+1))**2))/len(y)\n",
    "    #If there is an error, return this statement\n",
    "    if L == np.inf:\n",
    "        return \"Error: Target variable has negative values.\"\n",
    "    #If there is no error, return the loss value\n",
    "    else:\n",
    "        return L"
   ]
  },
  {
   "cell_type": "markdown",
   "metadata": {},
   "source": [
    "Mean Absolute Percentage Error (MAPE) is similar to MAE. It is shown below:"
   ]
  },
  {
   "cell_type": "code",
   "execution_count": 34,
   "metadata": {},
   "outputs": [],
   "source": [
    "#Python functions which returns the loss value using the MAPE formula\n",
    "def meanAbsolutePercentageError(y, y_hat):\n",
    "    #MAPE formula\n",
    "    L = (sum(abs((y_hat-y)/y)))/len(y)\n",
    "    #If there is an error, return this statement\n",
    "    if L == np.inf:\n",
    "        return \"Error: Values contain zero.\"\n",
    "    #If there is no error, return the loss value\n",
    "    else:\n",
    "        return L"
   ]
  },
  {
   "cell_type": "markdown",
   "metadata": {},
   "source": [
    "• Each function should return the loss value (L)"
   ]
  },
  {
   "cell_type": "code",
   "execution_count": 35,
   "metadata": {},
   "outputs": [
    {
     "name": "stdout",
     "output_type": "stream",
     "text": [
      "The Mean Squared Error loss value (L) is 0.3421052631578948\n"
     ]
    }
   ],
   "source": [
    "#Prints the Mean Squared Error (MSE) loss value for y and y_hat\n",
    "print(f\"The Mean Squared Error loss value (L) is {meanSquaredError(y, y_hat)}\")"
   ]
  },
  {
   "cell_type": "code",
   "execution_count": 36,
   "metadata": {},
   "outputs": [
    {
     "name": "stdout",
     "output_type": "stream",
     "text": [
      "The Mean Absolute Error loss value (L) is 0.4999999999999999\n"
     ]
    }
   ],
   "source": [
    "#Prints the Mean Absolute Error (MAE) loss value for y and y_hat\n",
    "print(f\"The Mean Absolute Error loss value (L) is {meanAbsoluteError(y, y_hat)}\")"
   ]
  },
  {
   "cell_type": "code",
   "execution_count": 37,
   "metadata": {},
   "outputs": [
    {
     "name": "stdout",
     "output_type": "stream",
     "text": [
      "The Mean Squared Logarithmic Error loss value (L) is Error: Target variable has negative values.\n"
     ]
    },
    {
     "name": "stderr",
     "output_type": "stream",
     "text": [
      "C:\\Users\\Alyssa\\AppData\\Local\\Temp\\ipykernel_20164\\2492560653.py:4: RuntimeWarning: divide by zero encountered in log\n",
      "  L = (sum((np.log(y_hat+1)-np.log(y+1))**2))/len(y)\n"
     ]
    }
   ],
   "source": [
    "#Prints the Mean Squared Logarithmic Error (MSLE) loss value for y and y_hat\n",
    "print(f\"The Mean Squared Logarithmic Error loss value (L) is {meanSquaredLogarithmicError(y, y_hat)}\")"
   ]
  },
  {
   "cell_type": "code",
   "execution_count": 38,
   "metadata": {},
   "outputs": [
    {
     "name": "stdout",
     "output_type": "stream",
     "text": [
      "The Mean Absolute Percentage Error loss value (L) is Error: Values contain zero.\n"
     ]
    },
    {
     "name": "stderr",
     "output_type": "stream",
     "text": [
      "C:\\Users\\Alyssa\\AppData\\Local\\Temp\\ipykernel_20164\\4228708268.py:4: RuntimeWarning: divide by zero encountered in true_divide\n",
      "  L = (sum(abs((y_hat-y)/y)))/len(y)\n"
     ]
    }
   ],
   "source": [
    "#Prints the Mean Absolute Percentage Error (MAPE) loss value for y and y_hat\n",
    "print(f\"The Mean Absolute Percentage Error loss value (L) is {meanAbsolutePercentageError(y, y_hat)}\")"
   ]
  },
  {
   "cell_type": "markdown",
   "metadata": {},
   "source": [
    "**PART 2**"
   ]
  },
  {
   "cell_type": "markdown",
   "metadata": {},
   "source": [
    "1. Create a 1d array M {1, 2, …16} using the arange function"
   ]
  },
  {
   "cell_type": "code",
   "execution_count": 39,
   "metadata": {},
   "outputs": [
    {
     "name": "stdout",
     "output_type": "stream",
     "text": [
      "M array: [ 1  2  3  4  5  6  7  8  9 10 11 12 13 14 15 16]\n"
     ]
    }
   ],
   "source": [
    "#Start at 1, count up by 1 (default) until you get to 17 (exclusive)\n",
    "M = np.arange(1, 17)\n",
    "print(f\"M array: {M}\")"
   ]
  },
  {
   "cell_type": "markdown",
   "metadata": {},
   "source": [
    "2. Reshape M into 4x4 array and store it to N"
   ]
  },
  {
   "cell_type": "code",
   "execution_count": 40,
   "metadata": {},
   "outputs": [
    {
     "name": "stdout",
     "output_type": "stream",
     "text": [
      "N array (4x4 array): \n",
      "[[ 1  2  3  4]\n",
      " [ 5  6  7  8]\n",
      " [ 9 10 11 12]\n",
      " [13 14 15 16]]\n"
     ]
    }
   ],
   "source": [
    "#We use the reshape function to reshape an array\n",
    "N = M.reshape(4, 4)\n",
    "print(f\"N array (4x4 array): \\n{N}\")"
   ]
  },
  {
   "cell_type": "markdown",
   "metadata": {},
   "source": [
    "3. Get the 2ⁿᵈ row of N"
   ]
  },
  {
   "cell_type": "code",
   "execution_count": 41,
   "metadata": {},
   "outputs": [
    {
     "data": {
      "text/plain": [
       "array([5, 6, 7, 8])"
      ]
     },
     "execution_count": 41,
     "metadata": {},
     "output_type": "execute_result"
    }
   ],
   "source": [
    "#To get only the second row using a single index\n",
    "#Note: Indexing starts with 0\n",
    "N[1]"
   ]
  },
  {
   "cell_type": "markdown",
   "metadata": {},
   "source": [
    "4. Get the minimum values for each column of N"
   ]
  },
  {
   "cell_type": "code",
   "execution_count": 42,
   "metadata": {},
   "outputs": [
    {
     "name": "stdout",
     "output_type": "stream",
     "text": [
      "Minimum value of Column 0 in N array: 1\n",
      "Minimum value of Column 1 in N array: 2\n",
      "Minimum value of Column 2 in N array: 3\n",
      "Minimum value of Column 3 in N array: 4\n"
     ]
    }
   ],
   "source": [
    "#Gets the min for each column\n",
    "min_val = np.min(N, axis=0)\n",
    "#Prints the minimum value for each column of N\n",
    "for x in range(len(min_val)):\n",
    "    print(f\"Minimum value of Column {x} in N array: {min_val[x]}\")"
   ]
  },
  {
   "cell_type": "markdown",
   "metadata": {},
   "source": [
    "5. Get the locations of the minimum values for each column of N"
   ]
  },
  {
   "cell_type": "code",
   "execution_count": 43,
   "metadata": {},
   "outputs": [
    {
     "name": "stdout",
     "output_type": "stream",
     "text": [
      "The location of minimum value 1 is at [0, 0]\n",
      "The location of minimum value 2 is at [0, 1]\n",
      "The location of minimum value 3 is at [0, 2]\n",
      "The location of minimum value 4 is at [0, 3]\n"
     ]
    }
   ],
   "source": [
    "#Returns an array of indices where the minimum values are found at the N array\n",
    "loc = np.where(N == min_val)\n",
    "#Prints the location where the minimum value of each column is found\n",
    "for row, column in zip(loc[0], loc[1]):\n",
    "    print(\"The location of minimum value {} is at [{}, {}]\".format(N[row][column],row, column))"
   ]
  },
  {
   "cell_type": "markdown",
   "metadata": {},
   "source": [
    "6. Get the average of the whole matrix"
   ]
  },
  {
   "cell_type": "code",
   "execution_count": 44,
   "metadata": {},
   "outputs": [
    {
     "name": "stdout",
     "output_type": "stream",
     "text": [
      "The average of the whole matrix is 8.5\n"
     ]
    }
   ],
   "source": [
    "#We use the mean function to find the average/mean of the whole matrix\n",
    "#The average/mean of M and N are the same\n",
    "ave = np.mean(N)\n",
    "print(f\"The average of the whole matrix is {ave}\")"
   ]
  },
  {
   "cell_type": "markdown",
   "metadata": {},
   "source": [
    "7. Create a vector V with 4 elements, each element is 1"
   ]
  },
  {
   "cell_type": "code",
   "execution_count": 45,
   "metadata": {},
   "outputs": [
    {
     "name": "stdout",
     "output_type": "stream",
     "text": [
      "Vector V is [1 1 1 1]\n"
     ]
    }
   ],
   "source": [
    "#A vector is a one-dimensional array\n",
    "V = np.array([1, 1, 1, 1])\n",
    "print(f\"Vector V is {V}\")"
   ]
  },
  {
   "cell_type": "markdown",
   "metadata": {},
   "source": [
    "8. Take the dot product of N and V"
   ]
  },
  {
   "cell_type": "code",
   "execution_count": 46,
   "metadata": {},
   "outputs": [
    {
     "name": "stdout",
     "output_type": "stream",
     "text": [
      "Dot Product of N and V is [10 26 42 58]\n"
     ]
    }
   ],
   "source": [
    "#Matrix and vector\n",
    "#We use the dot function to find their dot product\n",
    "dotProduct = np.dot(N, V)\n",
    "print(f\"Dot Product of N and V is {dotProduct}\")"
   ]
  },
  {
   "cell_type": "markdown",
   "metadata": {},
   "source": [
    "**-END-**"
   ]
  }
 ],
 "metadata": {
  "kernelspec": {
   "display_name": "Python 3.10.7 64-bit (microsoft store)",
   "language": "python",
   "name": "python3"
  },
  "language_info": {
   "codemirror_mode": {
    "name": "ipython",
    "version": 3
   },
   "file_extension": ".py",
   "mimetype": "text/x-python",
   "name": "python",
   "nbconvert_exporter": "python",
   "pygments_lexer": "ipython3",
   "version": "3.10.7"
  },
  "orig_nbformat": 4,
  "vscode": {
   "interpreter": {
    "hash": "296d5770da7ae9ae81484ec0ad5af8768932556c5cc58879b92342a2304d2256"
   }
  }
 },
 "nbformat": 4,
 "nbformat_minor": 2
}
