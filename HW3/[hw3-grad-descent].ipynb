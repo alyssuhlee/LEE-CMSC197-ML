{
 "cells": [
  {
   "cell_type": "markdown",
   "metadata": {},
   "source": [
    "## CMSC 197 Problem Set <br>\n",
    "### Implementing Linear Regression with Gradient Descent as Optimization Function"
   ]
  },
  {
   "cell_type": "markdown",
   "metadata": {},
   "source": [
    "Submitted to: Ms. Ara Abigail Ambita <br>\n",
    "Submitted by: Alyssa Alexandra Lee"
   ]
  },
  {
   "cell_type": "code",
   "execution_count": 77,
   "metadata": {},
   "outputs": [],
   "source": [
    "#Standard Libraries\n",
    "import numpy as np\n",
    "import pandas as pd\n",
    "import matplotlib.pyplot as plt\n",
    "\n",
    "%matplotlib inline\n",
    "\n",
    "#For standardization\n",
    "from sklearn import preprocessing\n",
    "#For dividing the dataset into train and test sets  \n",
    "from sklearn.model_selection import train_test_split    \n",
    "#For checking MSE and r^2 values   \n",
    "from sklearn.metrics import r2_score, mean_squared_error\n",
    "#For the OLS results\n",
    "from sklearn.linear_model import LinearRegression  "
   ]
  },
  {
   "cell_type": "markdown",
   "metadata": {},
   "source": [
    "**Application Part:**"
   ]
  },
  {
   "cell_type": "markdown",
   "metadata": {},
   "source": [
    "**First**, load Advertising.csv dataset using pandas."
   ]
  },
  {
   "cell_type": "code",
   "execution_count": 78,
   "metadata": {},
   "outputs": [
    {
     "name": "stdout",
     "output_type": "stream",
     "text": [
      "Size of the data: (200, 4)\n"
     ]
    },
    {
     "data": {
      "text/html": [
       "<div>\n",
       "<style scoped>\n",
       "    .dataframe tbody tr th:only-of-type {\n",
       "        vertical-align: middle;\n",
       "    }\n",
       "\n",
       "    .dataframe tbody tr th {\n",
       "        vertical-align: top;\n",
       "    }\n",
       "\n",
       "    .dataframe thead th {\n",
       "        text-align: right;\n",
       "    }\n",
       "</style>\n",
       "<table border=\"1\" class=\"dataframe\">\n",
       "  <thead>\n",
       "    <tr style=\"text-align: right;\">\n",
       "      <th></th>\n",
       "      <th>TV</th>\n",
       "      <th>Radio</th>\n",
       "      <th>Newspaper</th>\n",
       "      <th>Sales</th>\n",
       "    </tr>\n",
       "  </thead>\n",
       "  <tbody>\n",
       "    <tr>\n",
       "      <th>1</th>\n",
       "      <td>230.1</td>\n",
       "      <td>37.8</td>\n",
       "      <td>69.2</td>\n",
       "      <td>22.1</td>\n",
       "    </tr>\n",
       "    <tr>\n",
       "      <th>2</th>\n",
       "      <td>44.5</td>\n",
       "      <td>39.3</td>\n",
       "      <td>45.1</td>\n",
       "      <td>10.4</td>\n",
       "    </tr>\n",
       "    <tr>\n",
       "      <th>3</th>\n",
       "      <td>17.2</td>\n",
       "      <td>45.9</td>\n",
       "      <td>69.3</td>\n",
       "      <td>9.3</td>\n",
       "    </tr>\n",
       "    <tr>\n",
       "      <th>4</th>\n",
       "      <td>151.5</td>\n",
       "      <td>41.3</td>\n",
       "      <td>58.5</td>\n",
       "      <td>18.5</td>\n",
       "    </tr>\n",
       "    <tr>\n",
       "      <th>5</th>\n",
       "      <td>180.8</td>\n",
       "      <td>10.8</td>\n",
       "      <td>58.4</td>\n",
       "      <td>12.9</td>\n",
       "    </tr>\n",
       "  </tbody>\n",
       "</table>\n",
       "</div>"
      ],
      "text/plain": [
       "      TV  Radio  Newspaper  Sales\n",
       "1  230.1   37.8       69.2   22.1\n",
       "2   44.5   39.3       45.1   10.4\n",
       "3   17.2   45.9       69.3    9.3\n",
       "4  151.5   41.3       58.5   18.5\n",
       "5  180.8   10.8       58.4   12.9"
      ]
     },
     "execution_count": 78,
     "metadata": {},
     "output_type": "execute_result"
    }
   ],
   "source": [
    "#Load the data\n",
    "df = pd.read_csv(\"Advertising.csv\", index_col = 0)\n",
    "#Print the size of the data\n",
    "print(\"Size of the data:\", df.shape)\n",
    "#Displays the first five rows of the dataframe\n",
    "df.head()"
   ]
  },
  {
   "cell_type": "code",
   "execution_count": 79,
   "metadata": {},
   "outputs": [
    {
     "data": {
      "text/html": [
       "<div>\n",
       "<style scoped>\n",
       "    .dataframe tbody tr th:only-of-type {\n",
       "        vertical-align: middle;\n",
       "    }\n",
       "\n",
       "    .dataframe tbody tr th {\n",
       "        vertical-align: top;\n",
       "    }\n",
       "\n",
       "    .dataframe thead th {\n",
       "        text-align: right;\n",
       "    }\n",
       "</style>\n",
       "<table border=\"1\" class=\"dataframe\">\n",
       "  <thead>\n",
       "    <tr style=\"text-align: right;\">\n",
       "      <th></th>\n",
       "      <th>TV</th>\n",
       "      <th>Radio</th>\n",
       "      <th>Newspaper</th>\n",
       "      <th>Sales</th>\n",
       "    </tr>\n",
       "  </thead>\n",
       "  <tbody>\n",
       "    <tr>\n",
       "      <th>count</th>\n",
       "      <td>200.000000</td>\n",
       "      <td>200.000000</td>\n",
       "      <td>200.000000</td>\n",
       "      <td>200.000000</td>\n",
       "    </tr>\n",
       "    <tr>\n",
       "      <th>mean</th>\n",
       "      <td>147.042500</td>\n",
       "      <td>23.264000</td>\n",
       "      <td>30.554000</td>\n",
       "      <td>14.022500</td>\n",
       "    </tr>\n",
       "    <tr>\n",
       "      <th>std</th>\n",
       "      <td>85.854236</td>\n",
       "      <td>14.846809</td>\n",
       "      <td>21.778621</td>\n",
       "      <td>5.217457</td>\n",
       "    </tr>\n",
       "    <tr>\n",
       "      <th>min</th>\n",
       "      <td>0.700000</td>\n",
       "      <td>0.000000</td>\n",
       "      <td>0.300000</td>\n",
       "      <td>1.600000</td>\n",
       "    </tr>\n",
       "    <tr>\n",
       "      <th>25%</th>\n",
       "      <td>74.375000</td>\n",
       "      <td>9.975000</td>\n",
       "      <td>12.750000</td>\n",
       "      <td>10.375000</td>\n",
       "    </tr>\n",
       "    <tr>\n",
       "      <th>50%</th>\n",
       "      <td>149.750000</td>\n",
       "      <td>22.900000</td>\n",
       "      <td>25.750000</td>\n",
       "      <td>12.900000</td>\n",
       "    </tr>\n",
       "    <tr>\n",
       "      <th>75%</th>\n",
       "      <td>218.825000</td>\n",
       "      <td>36.525000</td>\n",
       "      <td>45.100000</td>\n",
       "      <td>17.400000</td>\n",
       "    </tr>\n",
       "    <tr>\n",
       "      <th>max</th>\n",
       "      <td>296.400000</td>\n",
       "      <td>49.600000</td>\n",
       "      <td>114.000000</td>\n",
       "      <td>27.000000</td>\n",
       "    </tr>\n",
       "  </tbody>\n",
       "</table>\n",
       "</div>"
      ],
      "text/plain": [
       "               TV       Radio   Newspaper       Sales\n",
       "count  200.000000  200.000000  200.000000  200.000000\n",
       "mean   147.042500   23.264000   30.554000   14.022500\n",
       "std     85.854236   14.846809   21.778621    5.217457\n",
       "min      0.700000    0.000000    0.300000    1.600000\n",
       "25%     74.375000    9.975000   12.750000   10.375000\n",
       "50%    149.750000   22.900000   25.750000   12.900000\n",
       "75%    218.825000   36.525000   45.100000   17.400000\n",
       "max    296.400000   49.600000  114.000000   27.000000"
      ]
     },
     "execution_count": 79,
     "metadata": {},
     "output_type": "execute_result"
    }
   ],
   "source": [
    "#We will use the describe function to get the summary of the data statistics\n",
    "df.describe()"
   ]
  },
  {
   "cell_type": "markdown",
   "metadata": {},
   "source": [
    "**Second**, standardize each column of the dataset."
   ]
  },
  {
   "cell_type": "code",
   "execution_count": 80,
   "metadata": {},
   "outputs": [
    {
     "data": {
      "text/html": [
       "<div>\n",
       "<style scoped>\n",
       "    .dataframe tbody tr th:only-of-type {\n",
       "        vertical-align: middle;\n",
       "    }\n",
       "\n",
       "    .dataframe tbody tr th {\n",
       "        vertical-align: top;\n",
       "    }\n",
       "\n",
       "    .dataframe thead th {\n",
       "        text-align: right;\n",
       "    }\n",
       "</style>\n",
       "<table border=\"1\" class=\"dataframe\">\n",
       "  <thead>\n",
       "    <tr style=\"text-align: right;\">\n",
       "      <th></th>\n",
       "      <th>TV</th>\n",
       "      <th>Radio</th>\n",
       "      <th>Newspaper</th>\n",
       "      <th>Sales</th>\n",
       "    </tr>\n",
       "  </thead>\n",
       "  <tbody>\n",
       "    <tr>\n",
       "      <th>1</th>\n",
       "      <td>0.967425</td>\n",
       "      <td>0.979066</td>\n",
       "      <td>1.774493</td>\n",
       "      <td>1.548168</td>\n",
       "    </tr>\n",
       "    <tr>\n",
       "      <th>2</th>\n",
       "      <td>-1.194379</td>\n",
       "      <td>1.080097</td>\n",
       "      <td>0.667903</td>\n",
       "      <td>-0.694304</td>\n",
       "    </tr>\n",
       "    <tr>\n",
       "      <th>3</th>\n",
       "      <td>-1.512360</td>\n",
       "      <td>1.524637</td>\n",
       "      <td>1.779084</td>\n",
       "      <td>-0.905135</td>\n",
       "    </tr>\n",
       "    <tr>\n",
       "      <th>4</th>\n",
       "      <td>0.051919</td>\n",
       "      <td>1.214806</td>\n",
       "      <td>1.283185</td>\n",
       "      <td>0.858177</td>\n",
       "    </tr>\n",
       "    <tr>\n",
       "      <th>5</th>\n",
       "      <td>0.393196</td>\n",
       "      <td>-0.839507</td>\n",
       "      <td>1.278593</td>\n",
       "      <td>-0.215143</td>\n",
       "    </tr>\n",
       "    <tr>\n",
       "      <th>...</th>\n",
       "      <td>...</td>\n",
       "      <td>...</td>\n",
       "      <td>...</td>\n",
       "      <td>...</td>\n",
       "    </tr>\n",
       "    <tr>\n",
       "      <th>196</th>\n",
       "      <td>-1.267759</td>\n",
       "      <td>-1.317724</td>\n",
       "      <td>-0.769287</td>\n",
       "      <td>-1.230964</td>\n",
       "    </tr>\n",
       "    <tr>\n",
       "      <th>197</th>\n",
       "      <td>-0.615491</td>\n",
       "      <td>-1.236899</td>\n",
       "      <td>-1.031011</td>\n",
       "      <td>-0.828469</td>\n",
       "    </tr>\n",
       "    <tr>\n",
       "      <th>198</th>\n",
       "      <td>0.348934</td>\n",
       "      <td>-0.940539</td>\n",
       "      <td>-1.109069</td>\n",
       "      <td>-0.234310</td>\n",
       "    </tr>\n",
       "    <tr>\n",
       "      <th>199</th>\n",
       "      <td>1.590574</td>\n",
       "      <td>1.261955</td>\n",
       "      <td>1.636743</td>\n",
       "      <td>2.199827</td>\n",
       "    </tr>\n",
       "    <tr>\n",
       "      <th>200</th>\n",
       "      <td>0.990720</td>\n",
       "      <td>-0.987687</td>\n",
       "      <td>-1.003461</td>\n",
       "      <td>-0.119311</td>\n",
       "    </tr>\n",
       "  </tbody>\n",
       "</table>\n",
       "<p>200 rows × 4 columns</p>\n",
       "</div>"
      ],
      "text/plain": [
       "           TV     Radio  Newspaper     Sales\n",
       "1    0.967425  0.979066   1.774493  1.548168\n",
       "2   -1.194379  1.080097   0.667903 -0.694304\n",
       "3   -1.512360  1.524637   1.779084 -0.905135\n",
       "4    0.051919  1.214806   1.283185  0.858177\n",
       "5    0.393196 -0.839507   1.278593 -0.215143\n",
       "..        ...       ...        ...       ...\n",
       "196 -1.267759 -1.317724  -0.769287 -1.230964\n",
       "197 -0.615491 -1.236899  -1.031011 -0.828469\n",
       "198  0.348934 -0.940539  -1.109069 -0.234310\n",
       "199  1.590574  1.261955   1.636743  2.199827\n",
       "200  0.990720 -0.987687  -1.003461 -0.119311\n",
       "\n",
       "[200 rows x 4 columns]"
      ]
     },
     "execution_count": 80,
     "metadata": {},
     "output_type": "execute_result"
    }
   ],
   "source": [
    "#Doing it manually\n",
    "\n",
    "#Temporary dataframe that contains the standardized values\n",
    "temp_df = df.copy()\n",
    "\n",
    "#For the TV\n",
    "tv_mean = temp_df['TV'].mean()\n",
    "tv_std = temp_df['TV'].std()\n",
    "temp_df['TV'] = (temp_df['TV'] - tv_mean) / tv_std\n",
    "\n",
    "#For the Radio\n",
    "radio_mean = temp_df['Radio'].mean()\n",
    "radio_std = temp_df['Radio'].std()\n",
    "temp_df['Radio'] = (temp_df['Radio'] - radio_mean) / radio_std\n",
    "\n",
    "#For the Newspaper\n",
    "newspaper_mean = temp_df['Newspaper'].mean()\n",
    "newspaper_std = temp_df['Newspaper'].std()\n",
    "temp_df['Newspaper'] = (temp_df['Newspaper'] - newspaper_mean) / newspaper_std\n",
    "\n",
    "#For the Sales\n",
    "sales_mean = temp_df['Sales'].mean()\n",
    "sales_std = temp_df['Sales'].std()\n",
    "temp_df['Sales'] = (temp_df['Sales'] - sales_mean) / sales_std\n",
    "\n",
    "temp_df"
   ]
  },
  {
   "cell_type": "markdown",
   "metadata": {},
   "source": [
    "We will be using the one below which utilizes **sklearn**:"
   ]
  },
  {
   "cell_type": "code",
   "execution_count": 81,
   "metadata": {},
   "outputs": [
    {
     "data": {
      "text/html": [
       "<div>\n",
       "<style scoped>\n",
       "    .dataframe tbody tr th:only-of-type {\n",
       "        vertical-align: middle;\n",
       "    }\n",
       "\n",
       "    .dataframe tbody tr th {\n",
       "        vertical-align: top;\n",
       "    }\n",
       "\n",
       "    .dataframe thead th {\n",
       "        text-align: right;\n",
       "    }\n",
       "</style>\n",
       "<table border=\"1\" class=\"dataframe\">\n",
       "  <thead>\n",
       "    <tr style=\"text-align: right;\">\n",
       "      <th></th>\n",
       "      <th>TV</th>\n",
       "      <th>Radio</th>\n",
       "      <th>Newspaper</th>\n",
       "      <th>Sales</th>\n",
       "    </tr>\n",
       "  </thead>\n",
       "  <tbody>\n",
       "    <tr>\n",
       "      <th>0</th>\n",
       "      <td>0.969852</td>\n",
       "      <td>0.981522</td>\n",
       "      <td>1.778945</td>\n",
       "      <td>1.552053</td>\n",
       "    </tr>\n",
       "    <tr>\n",
       "      <th>1</th>\n",
       "      <td>-1.197376</td>\n",
       "      <td>1.082808</td>\n",
       "      <td>0.669579</td>\n",
       "      <td>-0.696046</td>\n",
       "    </tr>\n",
       "    <tr>\n",
       "      <th>2</th>\n",
       "      <td>-1.516155</td>\n",
       "      <td>1.528463</td>\n",
       "      <td>1.783549</td>\n",
       "      <td>-0.907406</td>\n",
       "    </tr>\n",
       "    <tr>\n",
       "      <th>3</th>\n",
       "      <td>0.052050</td>\n",
       "      <td>1.217855</td>\n",
       "      <td>1.286405</td>\n",
       "      <td>0.860330</td>\n",
       "    </tr>\n",
       "    <tr>\n",
       "      <th>4</th>\n",
       "      <td>0.394182</td>\n",
       "      <td>-0.841614</td>\n",
       "      <td>1.281802</td>\n",
       "      <td>-0.215683</td>\n",
       "    </tr>\n",
       "    <tr>\n",
       "      <th>...</th>\n",
       "      <td>...</td>\n",
       "      <td>...</td>\n",
       "      <td>...</td>\n",
       "      <td>...</td>\n",
       "    </tr>\n",
       "    <tr>\n",
       "      <th>195</th>\n",
       "      <td>-1.270941</td>\n",
       "      <td>-1.321031</td>\n",
       "      <td>-0.771217</td>\n",
       "      <td>-1.234053</td>\n",
       "    </tr>\n",
       "    <tr>\n",
       "      <th>196</th>\n",
       "      <td>-0.617035</td>\n",
       "      <td>-1.240003</td>\n",
       "      <td>-1.033598</td>\n",
       "      <td>-0.830548</td>\n",
       "    </tr>\n",
       "    <tr>\n",
       "      <th>197</th>\n",
       "      <td>0.349810</td>\n",
       "      <td>-0.942899</td>\n",
       "      <td>-1.111852</td>\n",
       "      <td>-0.234898</td>\n",
       "    </tr>\n",
       "    <tr>\n",
       "      <th>198</th>\n",
       "      <td>1.594565</td>\n",
       "      <td>1.265121</td>\n",
       "      <td>1.640850</td>\n",
       "      <td>2.205347</td>\n",
       "    </tr>\n",
       "    <tr>\n",
       "      <th>199</th>\n",
       "      <td>0.993206</td>\n",
       "      <td>-0.990165</td>\n",
       "      <td>-1.005979</td>\n",
       "      <td>-0.119610</td>\n",
       "    </tr>\n",
       "  </tbody>\n",
       "</table>\n",
       "<p>200 rows × 4 columns</p>\n",
       "</div>"
      ],
      "text/plain": [
       "           TV     Radio  Newspaper     Sales\n",
       "0    0.969852  0.981522   1.778945  1.552053\n",
       "1   -1.197376  1.082808   0.669579 -0.696046\n",
       "2   -1.516155  1.528463   1.783549 -0.907406\n",
       "3    0.052050  1.217855   1.286405  0.860330\n",
       "4    0.394182 -0.841614   1.281802 -0.215683\n",
       "..        ...       ...        ...       ...\n",
       "195 -1.270941 -1.321031  -0.771217 -1.234053\n",
       "196 -0.617035 -1.240003  -1.033598 -0.830548\n",
       "197  0.349810 -0.942899  -1.111852 -0.234898\n",
       "198  1.594565  1.265121   1.640850  2.205347\n",
       "199  0.993206 -0.990165  -1.005979 -0.119610\n",
       "\n",
       "[200 rows x 4 columns]"
      ]
     },
     "execution_count": 81,
     "metadata": {},
     "output_type": "execute_result"
    }
   ],
   "source": [
    "#Alternative way - using sklearn's preprocessing.scale function\n",
    "df_standardize = preprocessing.scale(df)\n",
    "\n",
    "#Convert standardized data to dataframe\n",
    "df_standardize = pd.DataFrame(df_standardize, columns = df.columns)\n",
    "\n",
    "df_standardize"
   ]
  },
  {
   "cell_type": "markdown",
   "metadata": {},
   "source": [
    "**Third**, add an extra column composing of all ones to X."
   ]
  },
  {
   "cell_type": "code",
   "execution_count": 82,
   "metadata": {},
   "outputs": [
    {
     "data": {
      "text/html": [
       "<div>\n",
       "<style scoped>\n",
       "    .dataframe tbody tr th:only-of-type {\n",
       "        vertical-align: middle;\n",
       "    }\n",
       "\n",
       "    .dataframe tbody tr th {\n",
       "        vertical-align: top;\n",
       "    }\n",
       "\n",
       "    .dataframe thead th {\n",
       "        text-align: right;\n",
       "    }\n",
       "</style>\n",
       "<table border=\"1\" class=\"dataframe\">\n",
       "  <thead>\n",
       "    <tr style=\"text-align: right;\">\n",
       "      <th></th>\n",
       "      <th>all_ones</th>\n",
       "      <th>TV</th>\n",
       "      <th>Radio</th>\n",
       "      <th>Newspaper</th>\n",
       "      <th>Sales</th>\n",
       "    </tr>\n",
       "  </thead>\n",
       "  <tbody>\n",
       "    <tr>\n",
       "      <th>0</th>\n",
       "      <td>1</td>\n",
       "      <td>0.969852</td>\n",
       "      <td>0.981522</td>\n",
       "      <td>1.778945</td>\n",
       "      <td>1.552053</td>\n",
       "    </tr>\n",
       "    <tr>\n",
       "      <th>1</th>\n",
       "      <td>1</td>\n",
       "      <td>-1.197376</td>\n",
       "      <td>1.082808</td>\n",
       "      <td>0.669579</td>\n",
       "      <td>-0.696046</td>\n",
       "    </tr>\n",
       "    <tr>\n",
       "      <th>2</th>\n",
       "      <td>1</td>\n",
       "      <td>-1.516155</td>\n",
       "      <td>1.528463</td>\n",
       "      <td>1.783549</td>\n",
       "      <td>-0.907406</td>\n",
       "    </tr>\n",
       "    <tr>\n",
       "      <th>3</th>\n",
       "      <td>1</td>\n",
       "      <td>0.052050</td>\n",
       "      <td>1.217855</td>\n",
       "      <td>1.286405</td>\n",
       "      <td>0.860330</td>\n",
       "    </tr>\n",
       "    <tr>\n",
       "      <th>4</th>\n",
       "      <td>1</td>\n",
       "      <td>0.394182</td>\n",
       "      <td>-0.841614</td>\n",
       "      <td>1.281802</td>\n",
       "      <td>-0.215683</td>\n",
       "    </tr>\n",
       "    <tr>\n",
       "      <th>...</th>\n",
       "      <td>...</td>\n",
       "      <td>...</td>\n",
       "      <td>...</td>\n",
       "      <td>...</td>\n",
       "      <td>...</td>\n",
       "    </tr>\n",
       "    <tr>\n",
       "      <th>195</th>\n",
       "      <td>1</td>\n",
       "      <td>-1.270941</td>\n",
       "      <td>-1.321031</td>\n",
       "      <td>-0.771217</td>\n",
       "      <td>-1.234053</td>\n",
       "    </tr>\n",
       "    <tr>\n",
       "      <th>196</th>\n",
       "      <td>1</td>\n",
       "      <td>-0.617035</td>\n",
       "      <td>-1.240003</td>\n",
       "      <td>-1.033598</td>\n",
       "      <td>-0.830548</td>\n",
       "    </tr>\n",
       "    <tr>\n",
       "      <th>197</th>\n",
       "      <td>1</td>\n",
       "      <td>0.349810</td>\n",
       "      <td>-0.942899</td>\n",
       "      <td>-1.111852</td>\n",
       "      <td>-0.234898</td>\n",
       "    </tr>\n",
       "    <tr>\n",
       "      <th>198</th>\n",
       "      <td>1</td>\n",
       "      <td>1.594565</td>\n",
       "      <td>1.265121</td>\n",
       "      <td>1.640850</td>\n",
       "      <td>2.205347</td>\n",
       "    </tr>\n",
       "    <tr>\n",
       "      <th>199</th>\n",
       "      <td>1</td>\n",
       "      <td>0.993206</td>\n",
       "      <td>-0.990165</td>\n",
       "      <td>-1.005979</td>\n",
       "      <td>-0.119610</td>\n",
       "    </tr>\n",
       "  </tbody>\n",
       "</table>\n",
       "<p>200 rows × 5 columns</p>\n",
       "</div>"
      ],
      "text/plain": [
       "     all_ones        TV     Radio  Newspaper     Sales\n",
       "0           1  0.969852  0.981522   1.778945  1.552053\n",
       "1           1 -1.197376  1.082808   0.669579 -0.696046\n",
       "2           1 -1.516155  1.528463   1.783549 -0.907406\n",
       "3           1  0.052050  1.217855   1.286405  0.860330\n",
       "4           1  0.394182 -0.841614   1.281802 -0.215683\n",
       "..        ...       ...       ...        ...       ...\n",
       "195         1 -1.270941 -1.321031  -0.771217 -1.234053\n",
       "196         1 -0.617035 -1.240003  -1.033598 -0.830548\n",
       "197         1  0.349810 -0.942899  -1.111852 -0.234898\n",
       "198         1  1.594565  1.265121   1.640850  2.205347\n",
       "199         1  0.993206 -0.990165  -1.005979 -0.119610\n",
       "\n",
       "[200 rows x 5 columns]"
      ]
     },
     "execution_count": 82,
     "metadata": {},
     "output_type": "execute_result"
    }
   ],
   "source": [
    "df_standardize.insert(0, 'all_ones', 1)\n",
    "df_standardize"
   ]
  },
  {
   "cell_type": "markdown",
   "metadata": {},
   "source": [
    "**Fourth**, divide the dataset into training and testing, with 0.75 and 0.25 ratio, respectively. "
   ]
  },
  {
   "cell_type": "code",
   "execution_count": 83,
   "metadata": {},
   "outputs": [],
   "source": [
    "#Feature Selection\n",
    "features = df_standardize[['all_ones', 'TV', 'Radio', 'Newspaper']]\n",
    "#Sales column - target or response variable\n",
    "target = df_standardize['Sales']\n",
    "#0.75 or 75% for training and 0.25 or 25% for testing\n",
    "X_train, X_test, y_train, y_test = train_test_split(features, target, train_size = 0.75, test_size = 0.25)"
   ]
  },
  {
   "cell_type": "markdown",
   "metadata": {},
   "source": [
    "**Fifth**, fit the model on the training set."
   ]
  },
  {
   "cell_type": "markdown",
   "metadata": {},
   "source": [
    "**Required Functions:**"
   ]
  },
  {
   "cell_type": "markdown",
   "metadata": {},
   "source": [
    "1. initialize_weights\n"
   ]
  },
  {
   "cell_type": "code",
   "execution_count": 84,
   "metadata": {},
   "outputs": [],
   "source": [
    "def initialize_weights(X, random = False):\n",
    "    #length of the weights = no. of columns in x\n",
    "    X_len = X.shape[1]\n",
    "    #If random = True, the weights will be initialized randomly\n",
    "    if random:\n",
    "        return np.random.rand(X_len)\n",
    "    #Otherwise, the weights will be initialized to zero\n",
    "    return np.zeros(X_len)"
   ]
  },
  {
   "cell_type": "code",
   "execution_count": 85,
   "metadata": {},
   "outputs": [
    {
     "data": {
      "text/plain": [
       "array([0.61553757, 0.65148555, 0.50754463, 0.94742556])"
      ]
     },
     "execution_count": 85,
     "metadata": {},
     "output_type": "execute_result"
    }
   ],
   "source": [
    "#Testing the said function\n",
    "\n",
    "#If the weights are initialized randomly,\n",
    "weights = initialize_weights(X_train, random = True)\n",
    "weights"
   ]
  },
  {
   "cell_type": "code",
   "execution_count": 86,
   "metadata": {},
   "outputs": [
    {
     "data": {
      "text/plain": [
       "array([0., 0., 0., 0.])"
      ]
     },
     "execution_count": 86,
     "metadata": {},
     "output_type": "execute_result"
    }
   ],
   "source": [
    "#Testing the said function\n",
    "\n",
    "#If the weights are initialized to zeros,\n",
    "weights = initialize_weights(X_train)\n",
    "weights"
   ]
  },
  {
   "cell_type": "markdown",
   "metadata": {},
   "source": [
    "2. predict"
   ]
  },
  {
   "cell_type": "code",
   "execution_count": 87,
   "metadata": {},
   "outputs": [],
   "source": [
    "def predict(X, weights):\n",
    "    #Using numpy's dot product function to multiply every weight to its interrelated feature from x\n",
    "    return np.dot(X, weights)"
   ]
  },
  {
   "cell_type": "code",
   "execution_count": 88,
   "metadata": {},
   "outputs": [
    {
     "data": {
      "text/html": [
       "<div>\n",
       "<style scoped>\n",
       "    .dataframe tbody tr th:only-of-type {\n",
       "        vertical-align: middle;\n",
       "    }\n",
       "\n",
       "    .dataframe tbody tr th {\n",
       "        vertical-align: top;\n",
       "    }\n",
       "\n",
       "    .dataframe thead th {\n",
       "        text-align: right;\n",
       "    }\n",
       "</style>\n",
       "<table border=\"1\" class=\"dataframe\">\n",
       "  <thead>\n",
       "    <tr style=\"text-align: right;\">\n",
       "      <th></th>\n",
       "      <th>Actual Values</th>\n",
       "      <th>Predicted Values</th>\n",
       "    </tr>\n",
       "  </thead>\n",
       "  <tbody>\n",
       "    <tr>\n",
       "      <th>139</th>\n",
       "      <td>1.283050</td>\n",
       "      <td>1.015313</td>\n",
       "    </tr>\n",
       "    <tr>\n",
       "      <th>136</th>\n",
       "      <td>-0.868977</td>\n",
       "      <td>0.763456</td>\n",
       "    </tr>\n",
       "    <tr>\n",
       "      <th>132</th>\n",
       "      <td>-1.599129</td>\n",
       "      <td>0.269994</td>\n",
       "    </tr>\n",
       "    <tr>\n",
       "      <th>120</th>\n",
       "      <td>0.283895</td>\n",
       "      <td>0.956492</td>\n",
       "    </tr>\n",
       "    <tr>\n",
       "      <th>99</th>\n",
       "      <td>0.610541</td>\n",
       "      <td>1.431185</td>\n",
       "    </tr>\n",
       "    <tr>\n",
       "      <th>...</th>\n",
       "      <td>...</td>\n",
       "      <td>...</td>\n",
       "    </tr>\n",
       "    <tr>\n",
       "      <th>102</th>\n",
       "      <td>0.149393</td>\n",
       "      <td>0.268380</td>\n",
       "    </tr>\n",
       "    <tr>\n",
       "      <th>174</th>\n",
       "      <td>-0.484686</td>\n",
       "      <td>-0.119881</td>\n",
       "    </tr>\n",
       "    <tr>\n",
       "      <th>16</th>\n",
       "      <td>-0.292541</td>\n",
       "      <td>2.026907</td>\n",
       "    </tr>\n",
       "    <tr>\n",
       "      <th>165</th>\n",
       "      <td>-0.407828</td>\n",
       "      <td>0.779288</td>\n",
       "    </tr>\n",
       "    <tr>\n",
       "      <th>158</th>\n",
       "      <td>-1.291696</td>\n",
       "      <td>1.121935</td>\n",
       "    </tr>\n",
       "  </tbody>\n",
       "</table>\n",
       "<p>150 rows × 2 columns</p>\n",
       "</div>"
      ],
      "text/plain": [
       "     Actual Values  Predicted Values\n",
       "139       1.283050          1.015313\n",
       "136      -0.868977          0.763456\n",
       "132      -1.599129          0.269994\n",
       "120       0.283895          0.956492\n",
       "99        0.610541          1.431185\n",
       "..             ...               ...\n",
       "102       0.149393          0.268380\n",
       "174      -0.484686         -0.119881\n",
       "16       -0.292541          2.026907\n",
       "165      -0.407828          0.779288\n",
       "158      -1.291696          1.121935\n",
       "\n",
       "[150 rows x 2 columns]"
      ]
     },
     "execution_count": 88,
     "metadata": {},
     "output_type": "execute_result"
    }
   ],
   "source": [
    "#Predict the training set's values using a random set of weights\n",
    "y_hat_train = predict(X_train, initialize_weights(X_train, random = True))\n",
    "#Comparing the predicted and actual values through a new dataframe\n",
    "df_train = pd.DataFrame({'Actual Values': y_train, 'Predicted Values': y_hat_train})\n",
    "df_train"
   ]
  },
  {
   "cell_type": "markdown",
   "metadata": {},
   "source": [
    "3. compute_cost"
   ]
  },
  {
   "cell_type": "code",
   "execution_count": 105,
   "metadata": {},
   "outputs": [],
   "source": [
    "def compute_cost(X, y, weights):  \n",
    "    #Initialize the length of the response\n",
    "    m = len(y)\n",
    "\n",
    "    #Solve for the cost function using the given formula\n",
    "    cost_function = 1/(2*m) * np.sum((predict(X, weights) - y)**2)\n",
    "    return cost_function"
   ]
  },
  {
   "cell_type": "code",
   "execution_count": 187,
   "metadata": {},
   "outputs": [
    {
     "name": "stdout",
     "output_type": "stream",
     "text": [
      "0.943156063137087\n"
     ]
    }
   ],
   "source": [
    "#Print the cost function of the training set utilizing a random set of weights\n",
    "cost_test = compute_cost(X_train, y_train, initialize_weights(X_train, random = True))\n",
    "print(cost_test)"
   ]
  },
  {
   "cell_type": "markdown",
   "metadata": {},
   "source": [
    "The cost is 0.943156 which indicates that our model is not yet accurate."
   ]
  },
  {
   "cell_type": "markdown",
   "metadata": {},
   "source": [
    "As of now, our model is not yet accurate because the predicted values and actual values are sometimes close and sometimes far when compared. In this problem set, we will try to improve the model's accuracy by utilizing the gradient descent algorithm."
   ]
  },
  {
   "cell_type": "markdown",
   "metadata": {},
   "source": [
    "P.S. In the test that we had in the predict function, the cost is different since we initialized the weights in this case again."
   ]
  },
  {
   "cell_type": "markdown",
   "metadata": {},
   "source": [
    "4. compute_gradient"
   ]
  },
  {
   "cell_type": "code",
   "execution_count": 91,
   "metadata": {},
   "outputs": [],
   "source": [
    "def compute_gradient(X, y, weights):\n",
    "    m = len(y)\n",
    "    w = 1/m * np.dot(X.T, (predict(X, weights) - y))\n",
    "    #returns matrix w\n",
    "    return w"
   ]
  },
  {
   "cell_type": "markdown",
   "metadata": {},
   "source": [
    "5. update_weights"
   ]
  },
  {
   "cell_type": "code",
   "execution_count": 92,
   "metadata": {},
   "outputs": [],
   "source": [
    "def update_weights(X, y, weights, alpha):\n",
    "    return weights - alpha * compute_gradient(X, y, weights)"
   ]
  },
  {
   "cell_type": "markdown",
   "metadata": {},
   "source": [
    "6. grad_descent"
   ]
  },
  {
   "cell_type": "code",
   "execution_count": 93,
   "metadata": {},
   "outputs": [],
   "source": [
    "def grad_descent(X, y, weights, alpha, iterations):\n",
    "    #Initialization of the two matrices\n",
    "    weights_matrix = [0] * iterations\n",
    "    cost_matrix = [0] * iterations\n",
    "\n",
    "    #Looping through the no. of iterations\n",
    "    #Utilizing the batch gradient descent\n",
    "    for j in range(iterations):\n",
    "        #Updating weights\n",
    "        weights = update_weights(X, y, weights, alpha)\n",
    "        #Store the weights in the weights matrix\n",
    "        weights_matrix[j] = weights\n",
    "        #Computing cost\n",
    "        cost = compute_cost(X, y, weights)\n",
    "        #Store the cost in the cost matrix\n",
    "        cost_matrix[j] = cost\n",
    "    return weights_matrix, cost_matrix"
   ]
  },
  {
   "cell_type": "markdown",
   "metadata": {},
   "source": [
    "7. plot_costs"
   ]
  },
  {
   "cell_type": "code",
   "execution_count": 201,
   "metadata": {},
   "outputs": [],
   "source": [
    "def plot_costs(cost_array):\n",
    "    #Size of the plot\n",
    "    plt.figure(figsize=(15,8))\n",
    "    plt.plot(cost_array)\n",
    "    plt.xlabel('Iterations')\n",
    "    plt.ylabel('Cost')\n",
    "    plt.title('Cost over Iterations')\n",
    "    plt.show()"
   ]
  },
  {
   "cell_type": "markdown",
   "metadata": {},
   "source": [
    "8. Predict y for train set and calculate the cost."
   ]
  },
  {
   "cell_type": "code",
   "execution_count": 211,
   "metadata": {},
   "outputs": [
    {
     "data": {
      "text/html": [
       "<div>\n",
       "<style scoped>\n",
       "    .dataframe tbody tr th:only-of-type {\n",
       "        vertical-align: middle;\n",
       "    }\n",
       "\n",
       "    .dataframe tbody tr th {\n",
       "        vertical-align: top;\n",
       "    }\n",
       "\n",
       "    .dataframe thead th {\n",
       "        text-align: right;\n",
       "    }\n",
       "</style>\n",
       "<table border=\"1\" class=\"dataframe\">\n",
       "  <thead>\n",
       "    <tr style=\"text-align: right;\">\n",
       "      <th></th>\n",
       "      <th>Actual Values</th>\n",
       "      <th>Predicted Values</th>\n",
       "    </tr>\n",
       "  </thead>\n",
       "  <tbody>\n",
       "    <tr>\n",
       "      <th>139</th>\n",
       "      <td>1.283050</td>\n",
       "      <td>1.093196</td>\n",
       "    </tr>\n",
       "    <tr>\n",
       "      <th>136</th>\n",
       "      <td>-0.868977</td>\n",
       "      <td>0.322460</td>\n",
       "    </tr>\n",
       "    <tr>\n",
       "      <th>132</th>\n",
       "      <td>-1.599129</td>\n",
       "      <td>-0.212292</td>\n",
       "    </tr>\n",
       "    <tr>\n",
       "      <th>120</th>\n",
       "      <td>0.283895</td>\n",
       "      <td>1.091904</td>\n",
       "    </tr>\n",
       "    <tr>\n",
       "      <th>99</th>\n",
       "      <td>0.610541</td>\n",
       "      <td>1.489211</td>\n",
       "    </tr>\n",
       "    <tr>\n",
       "      <th>...</th>\n",
       "      <td>...</td>\n",
       "      <td>...</td>\n",
       "    </tr>\n",
       "    <tr>\n",
       "      <th>102</th>\n",
       "      <td>0.149393</td>\n",
       "      <td>0.872801</td>\n",
       "    </tr>\n",
       "    <tr>\n",
       "      <th>174</th>\n",
       "      <td>-0.484686</td>\n",
       "      <td>0.277500</td>\n",
       "    </tr>\n",
       "    <tr>\n",
       "      <th>16</th>\n",
       "      <td>-0.292541</td>\n",
       "      <td>2.093016</td>\n",
       "    </tr>\n",
       "    <tr>\n",
       "      <th>165</th>\n",
       "      <td>-0.407828</td>\n",
       "      <td>1.458595</td>\n",
       "    </tr>\n",
       "    <tr>\n",
       "      <th>158</th>\n",
       "      <td>-1.291696</td>\n",
       "      <td>0.759383</td>\n",
       "    </tr>\n",
       "  </tbody>\n",
       "</table>\n",
       "<p>150 rows × 2 columns</p>\n",
       "</div>"
      ],
      "text/plain": [
       "     Actual Values  Predicted Values\n",
       "139       1.283050          1.093196\n",
       "136      -0.868977          0.322460\n",
       "132      -1.599129         -0.212292\n",
       "120       0.283895          1.091904\n",
       "99        0.610541          1.489211\n",
       "..             ...               ...\n",
       "102       0.149393          0.872801\n",
       "174      -0.484686          0.277500\n",
       "16       -0.292541          2.093016\n",
       "165      -0.407828          1.458595\n",
       "158      -1.291696          0.759383\n",
       "\n",
       "[150 rows x 2 columns]"
      ]
     },
     "execution_count": 211,
     "metadata": {},
     "output_type": "execute_result"
    }
   ],
   "source": [
    "weights = initialize_weights(X_train, random = True)\n",
    "y_hat_train = predict(X_train, weights)\n",
    "y_hat_train_df = pd.DataFrame({'Actual Values': y_train, 'Predicted Values': y_hat_train})\n",
    "y_hat_train_df"
   ]
  },
  {
   "cell_type": "code",
   "execution_count": 212,
   "metadata": {},
   "outputs": [
    {
     "data": {
      "text/plain": [
       "0.4291783012424459"
      ]
     },
     "execution_count": 212,
     "metadata": {},
     "output_type": "execute_result"
    }
   ],
   "source": [
    "#Solve for the cost of the predicted values\n",
    "train_cost = compute_cost(X_train, y_train, weights)\n",
    "train_cost"
   ]
  },
  {
   "cell_type": "markdown",
   "metadata": {},
   "source": [
    "Based on utilizing the weights from the last iteration, the cost is 0.429178 which indicates that the model's prediction could still be improved. "
   ]
  },
  {
   "cell_type": "markdown",
   "metadata": {},
   "source": [
    "9. Predict y for test set and calculate the cost."
   ]
  },
  {
   "cell_type": "code",
   "execution_count": 238,
   "metadata": {},
   "outputs": [
    {
     "data": {
      "text/html": [
       "<div>\n",
       "<style scoped>\n",
       "    .dataframe tbody tr th:only-of-type {\n",
       "        vertical-align: middle;\n",
       "    }\n",
       "\n",
       "    .dataframe tbody tr th {\n",
       "        vertical-align: top;\n",
       "    }\n",
       "\n",
       "    .dataframe thead th {\n",
       "        text-align: right;\n",
       "    }\n",
       "</style>\n",
       "<table border=\"1\" class=\"dataframe\">\n",
       "  <thead>\n",
       "    <tr style=\"text-align: right;\">\n",
       "      <th></th>\n",
       "      <th>Actual Values</th>\n",
       "      <th>Predicted Values</th>\n",
       "      <th>Residual Values</th>\n",
       "    </tr>\n",
       "  </thead>\n",
       "  <tbody>\n",
       "    <tr>\n",
       "      <th>171</th>\n",
       "      <td>0.091749</td>\n",
       "      <td>0.841219</td>\n",
       "      <td>-0.749470</td>\n",
       "    </tr>\n",
       "    <tr>\n",
       "      <th>128</th>\n",
       "      <td>2.051631</td>\n",
       "      <td>2.406941</td>\n",
       "      <td>-0.355310</td>\n",
       "    </tr>\n",
       "    <tr>\n",
       "      <th>101</th>\n",
       "      <td>1.878700</td>\n",
       "      <td>3.020348</td>\n",
       "      <td>-1.141648</td>\n",
       "    </tr>\n",
       "    <tr>\n",
       "      <th>35</th>\n",
       "      <td>-0.234898</td>\n",
       "      <td>0.268366</td>\n",
       "      <td>-0.503263</td>\n",
       "    </tr>\n",
       "    <tr>\n",
       "      <th>135</th>\n",
       "      <td>-0.465472</td>\n",
       "      <td>1.303431</td>\n",
       "      <td>-1.768902</td>\n",
       "    </tr>\n",
       "    <tr>\n",
       "      <th>72</th>\n",
       "      <td>-1.003478</td>\n",
       "      <td>0.458650</td>\n",
       "      <td>-1.462129</td>\n",
       "    </tr>\n",
       "    <tr>\n",
       "      <th>178</th>\n",
       "      <td>-0.427043</td>\n",
       "      <td>0.218433</td>\n",
       "      <td>-0.645475</td>\n",
       "    </tr>\n",
       "    <tr>\n",
       "      <th>62</th>\n",
       "      <td>0.322324</td>\n",
       "      <td>0.793750</td>\n",
       "      <td>-0.471426</td>\n",
       "    </tr>\n",
       "    <tr>\n",
       "      <th>119</th>\n",
       "      <td>-1.426198</td>\n",
       "      <td>-0.547028</td>\n",
       "      <td>-0.879170</td>\n",
       "    </tr>\n",
       "    <tr>\n",
       "      <th>93</th>\n",
       "      <td>1.571268</td>\n",
       "      <td>2.496390</td>\n",
       "      <td>-0.925122</td>\n",
       "    </tr>\n",
       "    <tr>\n",
       "      <th>82</th>\n",
       "      <td>-0.523115</td>\n",
       "      <td>0.132921</td>\n",
       "      <td>-0.656036</td>\n",
       "    </tr>\n",
       "    <tr>\n",
       "      <th>130</th>\n",
       "      <td>-2.386924</td>\n",
       "      <td>0.588324</td>\n",
       "      <td>-2.975248</td>\n",
       "    </tr>\n",
       "    <tr>\n",
       "      <th>79</th>\n",
       "      <td>-0.580759</td>\n",
       "      <td>-0.440689</td>\n",
       "      <td>-0.140070</td>\n",
       "    </tr>\n",
       "    <tr>\n",
       "      <th>23</th>\n",
       "      <td>0.283895</td>\n",
       "      <td>0.798863</td>\n",
       "      <td>-0.514968</td>\n",
       "    </tr>\n",
       "    <tr>\n",
       "      <th>155</th>\n",
       "      <td>-2.079492</td>\n",
       "      <td>-1.046864</td>\n",
       "      <td>-1.032628</td>\n",
       "    </tr>\n",
       "    <tr>\n",
       "      <th>33</th>\n",
       "      <td>0.648971</td>\n",
       "      <td>0.966816</td>\n",
       "      <td>-0.317845</td>\n",
       "    </tr>\n",
       "    <tr>\n",
       "      <th>194</th>\n",
       "      <td>0.629756</td>\n",
       "      <td>1.228220</td>\n",
       "      <td>-0.598464</td>\n",
       "    </tr>\n",
       "    <tr>\n",
       "      <th>137</th>\n",
       "      <td>1.302264</td>\n",
       "      <td>2.076478</td>\n",
       "      <td>-0.774214</td>\n",
       "    </tr>\n",
       "    <tr>\n",
       "      <th>115</th>\n",
       "      <td>-0.273327</td>\n",
       "      <td>1.171307</td>\n",
       "      <td>-1.444633</td>\n",
       "    </tr>\n",
       "    <tr>\n",
       "      <th>78</th>\n",
       "      <td>-1.675987</td>\n",
       "      <td>0.058966</td>\n",
       "      <td>-1.734953</td>\n",
       "    </tr>\n",
       "    <tr>\n",
       "      <th>166</th>\n",
       "      <td>-1.157195</td>\n",
       "      <td>0.693591</td>\n",
       "      <td>-1.850786</td>\n",
       "    </tr>\n",
       "    <tr>\n",
       "      <th>126</th>\n",
       "      <td>-1.426198</td>\n",
       "      <td>0.973641</td>\n",
       "      <td>-2.399839</td>\n",
       "    </tr>\n",
       "    <tr>\n",
       "      <th>117</th>\n",
       "      <td>-0.888191</td>\n",
       "      <td>-1.156300</td>\n",
       "      <td>0.268109</td>\n",
       "    </tr>\n",
       "    <tr>\n",
       "      <th>183</th>\n",
       "      <td>2.339849</td>\n",
       "      <td>3.090783</td>\n",
       "      <td>-0.750934</td>\n",
       "    </tr>\n",
       "    <tr>\n",
       "      <th>196</th>\n",
       "      <td>-0.830548</td>\n",
       "      <td>-0.871988</td>\n",
       "      <td>0.041440</td>\n",
       "    </tr>\n",
       "    <tr>\n",
       "      <th>124</th>\n",
       "      <td>1.090905</td>\n",
       "      <td>2.140678</td>\n",
       "      <td>-1.049773</td>\n",
       "    </tr>\n",
       "    <tr>\n",
       "      <th>95</th>\n",
       "      <td>0.552898</td>\n",
       "      <td>1.506516</td>\n",
       "      <td>-0.953618</td>\n",
       "    </tr>\n",
       "    <tr>\n",
       "      <th>65</th>\n",
       "      <td>-0.907406</td>\n",
       "      <td>-0.833725</td>\n",
       "      <td>-0.073680</td>\n",
       "    </tr>\n",
       "    <tr>\n",
       "      <th>150</th>\n",
       "      <td>0.399182</td>\n",
       "      <td>1.038725</td>\n",
       "      <td>-0.639543</td>\n",
       "    </tr>\n",
       "    <tr>\n",
       "      <th>100</th>\n",
       "      <td>-0.446257</td>\n",
       "      <td>0.246513</td>\n",
       "      <td>-0.692770</td>\n",
       "    </tr>\n",
       "    <tr>\n",
       "      <th>91</th>\n",
       "      <td>-1.291696</td>\n",
       "      <td>-1.236940</td>\n",
       "      <td>-0.054756</td>\n",
       "    </tr>\n",
       "    <tr>\n",
       "      <th>12</th>\n",
       "      <td>-0.926620</td>\n",
       "      <td>0.988965</td>\n",
       "      <td>-1.915586</td>\n",
       "    </tr>\n",
       "    <tr>\n",
       "      <th>143</th>\n",
       "      <td>-0.696046</td>\n",
       "      <td>-0.522271</td>\n",
       "      <td>-0.173775</td>\n",
       "    </tr>\n",
       "    <tr>\n",
       "      <th>148</th>\n",
       "      <td>-0.599973</td>\n",
       "      <td>0.882901</td>\n",
       "      <td>-1.482874</td>\n",
       "    </tr>\n",
       "    <tr>\n",
       "      <th>19</th>\n",
       "      <td>0.110964</td>\n",
       "      <td>0.653234</td>\n",
       "      <td>-0.542271</td>\n",
       "    </tr>\n",
       "    <tr>\n",
       "      <th>18</th>\n",
       "      <td>-0.523115</td>\n",
       "      <td>-0.022071</td>\n",
       "      <td>-0.501044</td>\n",
       "    </tr>\n",
       "    <tr>\n",
       "      <th>199</th>\n",
       "      <td>-0.119610</td>\n",
       "      <td>0.179016</td>\n",
       "      <td>-0.298627</td>\n",
       "    </tr>\n",
       "    <tr>\n",
       "      <th>0</th>\n",
       "      <td>1.552053</td>\n",
       "      <td>2.418383</td>\n",
       "      <td>-0.866330</td>\n",
       "    </tr>\n",
       "    <tr>\n",
       "      <th>89</th>\n",
       "      <td>0.514469</td>\n",
       "      <td>2.112688</td>\n",
       "      <td>-1.598219</td>\n",
       "    </tr>\n",
       "    <tr>\n",
       "      <th>83</th>\n",
       "      <td>-0.081181</td>\n",
       "      <td>1.526976</td>\n",
       "      <td>-1.608157</td>\n",
       "    </tr>\n",
       "    <tr>\n",
       "      <th>21</th>\n",
       "      <td>-0.292541</td>\n",
       "      <td>0.142782</td>\n",
       "      <td>-0.435323</td>\n",
       "    </tr>\n",
       "    <tr>\n",
       "      <th>176</th>\n",
       "      <td>1.186977</td>\n",
       "      <td>1.639329</td>\n",
       "      <td>-0.452352</td>\n",
       "    </tr>\n",
       "    <tr>\n",
       "      <th>105</th>\n",
       "      <td>0.994832</td>\n",
       "      <td>2.269999</td>\n",
       "      <td>-1.275167</td>\n",
       "    </tr>\n",
       "    <tr>\n",
       "      <th>111</th>\n",
       "      <td>1.494410</td>\n",
       "      <td>2.079088</td>\n",
       "      <td>-0.584678</td>\n",
       "    </tr>\n",
       "    <tr>\n",
       "      <th>131</th>\n",
       "      <td>-0.254112</td>\n",
       "      <td>0.360619</td>\n",
       "      <td>-0.614731</td>\n",
       "    </tr>\n",
       "    <tr>\n",
       "      <th>51</th>\n",
       "      <td>-0.638403</td>\n",
       "      <td>-0.602509</td>\n",
       "      <td>-0.035893</td>\n",
       "    </tr>\n",
       "    <tr>\n",
       "      <th>112</th>\n",
       "      <td>0.014891</td>\n",
       "      <td>0.177203</td>\n",
       "      <td>-0.162312</td>\n",
       "    </tr>\n",
       "    <tr>\n",
       "      <th>32</th>\n",
       "      <td>-0.849762</td>\n",
       "      <td>-0.851310</td>\n",
       "      <td>0.001548</td>\n",
       "    </tr>\n",
       "    <tr>\n",
       "      <th>77</th>\n",
       "      <td>0.034106</td>\n",
       "      <td>0.714531</td>\n",
       "      <td>-0.680425</td>\n",
       "    </tr>\n",
       "    <tr>\n",
       "      <th>161</th>\n",
       "      <td>-0.138825</td>\n",
       "      <td>1.250554</td>\n",
       "      <td>-1.389379</td>\n",
       "    </tr>\n",
       "  </tbody>\n",
       "</table>\n",
       "</div>"
      ],
      "text/plain": [
       "     Actual Values  Predicted Values  Residual Values\n",
       "171       0.091749          0.841219        -0.749470\n",
       "128       2.051631          2.406941        -0.355310\n",
       "101       1.878700          3.020348        -1.141648\n",
       "35       -0.234898          0.268366        -0.503263\n",
       "135      -0.465472          1.303431        -1.768902\n",
       "72       -1.003478          0.458650        -1.462129\n",
       "178      -0.427043          0.218433        -0.645475\n",
       "62        0.322324          0.793750        -0.471426\n",
       "119      -1.426198         -0.547028        -0.879170\n",
       "93        1.571268          2.496390        -0.925122\n",
       "82       -0.523115          0.132921        -0.656036\n",
       "130      -2.386924          0.588324        -2.975248\n",
       "79       -0.580759         -0.440689        -0.140070\n",
       "23        0.283895          0.798863        -0.514968\n",
       "155      -2.079492         -1.046864        -1.032628\n",
       "33        0.648971          0.966816        -0.317845\n",
       "194       0.629756          1.228220        -0.598464\n",
       "137       1.302264          2.076478        -0.774214\n",
       "115      -0.273327          1.171307        -1.444633\n",
       "78       -1.675987          0.058966        -1.734953\n",
       "166      -1.157195          0.693591        -1.850786\n",
       "126      -1.426198          0.973641        -2.399839\n",
       "117      -0.888191         -1.156300         0.268109\n",
       "183       2.339849          3.090783        -0.750934\n",
       "196      -0.830548         -0.871988         0.041440\n",
       "124       1.090905          2.140678        -1.049773\n",
       "95        0.552898          1.506516        -0.953618\n",
       "65       -0.907406         -0.833725        -0.073680\n",
       "150       0.399182          1.038725        -0.639543\n",
       "100      -0.446257          0.246513        -0.692770\n",
       "91       -1.291696         -1.236940        -0.054756\n",
       "12       -0.926620          0.988965        -1.915586\n",
       "143      -0.696046         -0.522271        -0.173775\n",
       "148      -0.599973          0.882901        -1.482874\n",
       "19        0.110964          0.653234        -0.542271\n",
       "18       -0.523115         -0.022071        -0.501044\n",
       "199      -0.119610          0.179016        -0.298627\n",
       "0         1.552053          2.418383        -0.866330\n",
       "89        0.514469          2.112688        -1.598219\n",
       "83       -0.081181          1.526976        -1.608157\n",
       "21       -0.292541          0.142782        -0.435323\n",
       "176       1.186977          1.639329        -0.452352\n",
       "105       0.994832          2.269999        -1.275167\n",
       "111       1.494410          2.079088        -0.584678\n",
       "131      -0.254112          0.360619        -0.614731\n",
       "51       -0.638403         -0.602509        -0.035893\n",
       "112       0.014891          0.177203        -0.162312\n",
       "32       -0.849762         -0.851310         0.001548\n",
       "77        0.034106          0.714531        -0.680425\n",
       "161      -0.138825          1.250554        -1.389379"
      ]
     },
     "execution_count": 238,
     "metadata": {},
     "output_type": "execute_result"
    }
   ],
   "source": [
    "weights = initialize_weights(X_test, random = True)\n",
    "y_hat_test = predict(X_test, weights)\n",
    "y_hat_test_df = pd.DataFrame({'Actual Values': y_test, 'Predicted Values': y_hat_test})\n",
    "y_hat_test_df['Residual Values'] = y_hat_test_df['Actual Values'] - y_hat_test_df['Predicted Values']\n",
    "y_hat_test_df"
   ]
  },
  {
   "cell_type": "code",
   "execution_count": 239,
   "metadata": {},
   "outputs": [
    {
     "data": {
      "text/plain": [
       "0.5688402747463988"
      ]
     },
     "execution_count": 239,
     "metadata": {},
     "output_type": "execute_result"
    }
   ],
   "source": [
    "#Solve for the cost of the predicted values\n",
    "test_cost = compute_cost(X_test, y_test, weights)\n",
    "test_cost"
   ]
  },
  {
   "cell_type": "markdown",
   "metadata": {},
   "source": [
    "The test cost (0.568840) is not that favorable thus this shows that this approach has limitations. Later, we will improve it using the gradient descent algorithm. "
   ]
  },
  {
   "cell_type": "markdown",
   "metadata": {},
   "source": [
    "**Sixth**, predict the quantitative response y on the train set. Evaluate performance. You can use\n",
    "the MSE cost function defined for the gradient descent."
   ]
  },
  {
   "cell_type": "code",
   "execution_count": 99,
   "metadata": {},
   "outputs": [
    {
     "data": {
      "image/png": "[encoded data removed]",
      "text/plain": [
       "<Figure size 1080x576 with 1 Axes>"
      ]
     },
     "metadata": {
      "needs_background": "light"
     },
     "output_type": "display_data"
    }
   ],
   "source": [
    "weights = initialize_weights(X_train, random = True)\n",
    "\n",
    "#Initialize alpha and the number of iterations\n",
    "alpha = 0.01\n",
    "iterations = 10000                          \n",
    "\n",
    "#Run the gradient descent algorithm (both in Training and Testing)\n",
    "weights_matrix_training, cost_matrix_training = grad_descent(X_train, y_train, weights, alpha, iterations)\n",
    "weights_matrix_testing, cost_matrix_testing = grad_descent(X_test, y_test, weights, alpha, iterations)\n",
    "\n",
    "#Predict the quantitative response using the train set\n",
    "y_hat_train = predict(X_train, weights_matrix_training[-1])\n",
    "\n",
    "#For Plotting\n",
    "plt.figure(figsize=(15,8))\n",
    "plt.xlabel('Actual Quantitative Response')\n",
    "plt.ylabel('Predicted Quantitative Response')\n",
    "plt.title('Actual VS Predicted Quantitative Response on Train Set')\n",
    "plt.scatter(y_train, y_hat_train)\n",
    "#Line of Best Fit\n",
    "plt.plot(y_train, y_train, color=\"red\")\n",
    "#Print out the Mean Squared Error\n",
    "plt.text(0.5, 0.20, f\"Mean Squared Error: {mean_squared_error(y_train, y_hat_train)}\", color='green')\n",
    "plt.show()"
   ]
  },
  {
   "cell_type": "markdown",
   "metadata": {},
   "source": [
    "**Evaluation**: The Mean Squared Error (MSE) is 0.073527 which can be seen above. The closer the value of MSE to zero, the more accurate the model is. Therefore, we can conclude that our model is already good."
   ]
  },
  {
   "cell_type": "markdown",
   "metadata": {},
   "source": [
    "**Seventh**, predict the quantitative response y on the test set. Evaluate performance. Similarly, you\n",
    "can use the MSE cost function defined for the gradient descent."
   ]
  },
  {
   "cell_type": "code",
   "execution_count": 100,
   "metadata": {},
   "outputs": [
    {
     "data": {
      "image/png": "[encoded data removed]",
      "text/plain": [
       "<Figure size 1080x576 with 1 Axes>"
      ]
     },
     "metadata": {
      "needs_background": "light"
     },
     "output_type": "display_data"
    }
   ],
   "source": [
    "#Predict the quantitative response using the test set\n",
    "y_hat_test = predict(X_test, weights_matrix_training[-1])\n",
    "\n",
    "#For Plotting\n",
    "plt.figure(figsize=(15,8))\n",
    "plt.xlabel('Actual Quantitative Response')\n",
    "plt.ylabel('Predicted Quantitative Response')\n",
    "plt.title('Actual VS Predicted Quantitative Response on Test Set')\n",
    "plt.scatter(y_test, y_hat_test)\n",
    "#Line of Best Fit\n",
    "plt.plot(y_test, y_test, color=\"red\")\n",
    "#Print out the Mean Squared Error\n",
    "plt.text(0.5, 0.20, f\"Mean Squared Error: {mean_squared_error(y_test, y_hat_test)}\", color='green')\n",
    "plt.show()"
   ]
  },
  {
   "cell_type": "markdown",
   "metadata": {},
   "source": [
    "**Evaluation**: The Mean Squared Error is 0.201263. It indicates that our model which was trained using the training set was able to predict the test set with a good accuracy. But the MSE in the test dataset is greater than the MSE in our train dataset thus it indicates that it is not better. "
   ]
  },
  {
   "cell_type": "markdown",
   "metadata": {},
   "source": [
    "**Eighth**, we will predict the sales on the actual dataset using the model."
   ]
  },
  {
   "cell_type": "code",
   "execution_count": 101,
   "metadata": {},
   "outputs": [
    {
     "data": {
      "text/html": [
       "<div>\n",
       "<style scoped>\n",
       "    .dataframe tbody tr th:only-of-type {\n",
       "        vertical-align: middle;\n",
       "    }\n",
       "\n",
       "    .dataframe tbody tr th {\n",
       "        vertical-align: top;\n",
       "    }\n",
       "\n",
       "    .dataframe thead th {\n",
       "        text-align: right;\n",
       "    }\n",
       "</style>\n",
       "<table border=\"1\" class=\"dataframe\">\n",
       "  <thead>\n",
       "    <tr style=\"text-align: right;\">\n",
       "      <th></th>\n",
       "      <th>TV</th>\n",
       "      <th>Radio</th>\n",
       "      <th>Newspaper</th>\n",
       "      <th>Sales</th>\n",
       "      <th>Predicted Sales</th>\n",
       "      <th>Residuals</th>\n",
       "    </tr>\n",
       "  </thead>\n",
       "  <tbody>\n",
       "    <tr>\n",
       "      <th>0</th>\n",
       "      <td>230.308426</td>\n",
       "      <td>37.836477</td>\n",
       "      <td>69.296979</td>\n",
       "      <td>22.120270</td>\n",
       "      <td>20.376519</td>\n",
       "      <td>1.743751</td>\n",
       "    </tr>\n",
       "    <tr>\n",
       "      <th>1</th>\n",
       "      <td>44.242678</td>\n",
       "      <td>39.340241</td>\n",
       "      <td>45.136502</td>\n",
       "      <td>10.390910</td>\n",
       "      <td>12.626315</td>\n",
       "      <td>-2.235405</td>\n",
       "    </tr>\n",
       "    <tr>\n",
       "      <th>2</th>\n",
       "      <td>16.874171</td>\n",
       "      <td>45.956803</td>\n",
       "      <td>69.397230</td>\n",
       "      <td>9.288149</td>\n",
       "      <td>12.471761</td>\n",
       "      <td>-3.183612</td>\n",
       "    </tr>\n",
       "    <tr>\n",
       "      <th>3</th>\n",
       "      <td>151.511186</td>\n",
       "      <td>41.345260</td>\n",
       "      <td>58.570128</td>\n",
       "      <td>18.511236</td>\n",
       "      <td>17.665403</td>\n",
       "      <td>0.845833</td>\n",
       "    </tr>\n",
       "    <tr>\n",
       "      <th>4</th>\n",
       "      <td>180.884712</td>\n",
       "      <td>10.768723</td>\n",
       "      <td>58.469877</td>\n",
       "      <td>12.897183</td>\n",
       "      <td>12.947077</td>\n",
       "      <td>-0.049893</td>\n",
       "    </tr>\n",
       "    <tr>\n",
       "      <th>...</th>\n",
       "      <td>...</td>\n",
       "      <td>...</td>\n",
       "      <td>...</td>\n",
       "      <td>...</td>\n",
       "      <td>...</td>\n",
       "      <td>...</td>\n",
       "    </tr>\n",
       "    <tr>\n",
       "      <th>195</th>\n",
       "      <td>37.926869</td>\n",
       "      <td>3.650906</td>\n",
       "      <td>13.757957</td>\n",
       "      <td>7.583883</td>\n",
       "      <td>5.620376</td>\n",
       "      <td>1.963507</td>\n",
       "    </tr>\n",
       "    <tr>\n",
       "      <th>196</th>\n",
       "      <td>94.067396</td>\n",
       "      <td>4.853917</td>\n",
       "      <td>8.043654</td>\n",
       "      <td>9.689153</td>\n",
       "      <td>8.414069</td>\n",
       "      <td>1.275084</td>\n",
       "    </tr>\n",
       "    <tr>\n",
       "      <th>197</th>\n",
       "      <td>177.075176</td>\n",
       "      <td>9.264959</td>\n",
       "      <td>6.339388</td>\n",
       "      <td>12.796932</td>\n",
       "      <td>12.996886</td>\n",
       "      <td>-0.199954</td>\n",
       "    </tr>\n",
       "    <tr>\n",
       "      <th>198</th>\n",
       "      <td>283.942679</td>\n",
       "      <td>42.047016</td>\n",
       "      <td>66.289451</td>\n",
       "      <td>25.528802</td>\n",
       "      <td>23.624673</td>\n",
       "      <td>1.904129</td>\n",
       "    </tr>\n",
       "    <tr>\n",
       "      <th>199</th>\n",
       "      <td>232.313445</td>\n",
       "      <td>8.563202</td>\n",
       "      <td>8.645159</td>\n",
       "      <td>13.398438</td>\n",
       "      <td>15.295559</td>\n",
       "      <td>-1.897121</td>\n",
       "    </tr>\n",
       "  </tbody>\n",
       "</table>\n",
       "<p>200 rows × 6 columns</p>\n",
       "</div>"
      ],
      "text/plain": [
       "             TV      Radio  Newspaper      Sales  Predicted Sales  Residuals\n",
       "0    230.308426  37.836477  69.296979  22.120270        20.376519   1.743751\n",
       "1     44.242678  39.340241  45.136502  10.390910        12.626315  -2.235405\n",
       "2     16.874171  45.956803  69.397230   9.288149        12.471761  -3.183612\n",
       "3    151.511186  41.345260  58.570128  18.511236        17.665403   0.845833\n",
       "4    180.884712  10.768723  58.469877  12.897183        12.947077  -0.049893\n",
       "..          ...        ...        ...        ...              ...        ...\n",
       "195   37.926869   3.650906  13.757957   7.583883         5.620376   1.963507\n",
       "196   94.067396   4.853917   8.043654   9.689153         8.414069   1.275084\n",
       "197  177.075176   9.264959   6.339388  12.796932        12.996886  -0.199954\n",
       "198  283.942679  42.047016  66.289451  25.528802        23.624673   1.904129\n",
       "199  232.313445   8.563202   8.645159  13.398438        15.295559  -1.897121\n",
       "\n",
       "[200 rows x 6 columns]"
      ]
     },
     "execution_count": 101,
     "metadata": {},
     "output_type": "execute_result"
    }
   ],
   "source": [
    "df_standardize\n",
    "\n",
    "#Add a new column which is the predicted sales\n",
    "df_standardize['Predicted Sales'] = predict(df_standardize[['all_ones', 'TV', 'Radio', 'Newspaper']], weights_matrix_training[-1])\n",
    "\n",
    "#Revert back the standardized data into the original form \n",
    "df_standardize['TV'] = df_standardize['TV'] * df['TV'].std() + df['TV'].mean()\n",
    "df_standardize['Radio'] = df_standardize['Radio'] * df['Radio'].std() + df['Radio'].mean()\n",
    "df_standardize['Newspaper'] = df_standardize['Newspaper'] * df['Newspaper'].std() + df['Newspaper'].mean()\n",
    "df_standardize['Sales'] = df_standardize['Sales'] * df['Sales'].std() + df['Sales'].mean()\n",
    "df_standardize['Predicted Sales'] = df_standardize['Predicted Sales'] * df['Sales'].std() + df['Sales'].mean()\n",
    "\n",
    "#Insert Residuals column\n",
    "df_standardize['Residuals'] = df_standardize['Sales'] - df_standardize['Predicted Sales']\n",
    "\n",
    "# Drop all_ones column\n",
    "df_standardize.drop('all_ones', axis = 1, inplace = True)\n",
    "\n",
    "df_standardize"
   ]
  },
  {
   "cell_type": "markdown",
   "metadata": {},
   "source": [
    "We can say that our model is accurate enough because the residual values are not far from each other."
   ]
  },
  {
   "cell_type": "markdown",
   "metadata": {},
   "source": [
    "**Ninth**, observe the cost results and analyse."
   ]
  },
  {
   "cell_type": "code",
   "execution_count": 240,
   "metadata": {},
   "outputs": [
    {
     "data": {
      "image/png": "[encoded data removed]",
      "text/plain": [
       "<Figure size 1080x576 with 1 Axes>"
      ]
     },
     "metadata": {
      "needs_background": "light"
     },
     "output_type": "display_data"
    }
   ],
   "source": [
    "plt.figure(figsize=(15,8))\n",
    "plt.plot(cost_matrix_training, label='Train Cost')\n",
    "plt.plot(cost_matrix_testing, label='Test Cost')\n",
    "plt.xlabel('Iterations')\n",
    "plt.ylabel('Cost')\n",
    "plt.title('Cost over Iterations')\n",
    "plt.legend()\n",
    "plt.show()"
   ]
  },
  {
   "cell_type": "markdown",
   "metadata": {},
   "source": [
    "What I analyzed and derived from the plot is that cost function value decreases as the iterations increase thus our model becomes more accurate if there are more iterations. Also, gradual descent of the cost value can be observed."
   ]
  },
  {
   "cell_type": "markdown",
   "metadata": {},
   "source": [
    "**Questions**:"
   ]
  },
  {
   "cell_type": "markdown",
   "metadata": {},
   "source": [
    "1."
   ]
  },
  {
   "cell_type": "code",
   "execution_count": 241,
   "metadata": {},
   "outputs": [
    {
     "name": "stdout",
     "output_type": "stream",
     "text": [
      "Optimal Weights: [ 0.03007423  0.73276853  0.56093533 -0.04130745]\n",
      "hΘ(x) = 0.030074231293721027 + 0.732768529334593*TV + 0.5609353278672755*Radio + -0.04130744510788957*Newspaper\n"
     ]
    }
   ],
   "source": [
    "#Zero weights as initial weights\n",
    "w = initialize_weights(X_train)\n",
    "\n",
    "#Learning rate and the no. of iterations\n",
    "alpha = 0.01    \n",
    "iterations = 50000    #as stated in the guide                                               \n",
    "\n",
    "#Running the gradient descent algorithm\n",
    "we, co = grad_descent(X_train, y_train, w, alpha, iterations)\n",
    "\n",
    "#Getting the optimal weights\n",
    "optimal_weights = we[-1]\n",
    "\n",
    "#Printing the optimal weights\n",
    "print(f\"Optimal Weights: {optimal_weights}\")\n",
    "\n",
    "#Plugging it into the linear model\n",
    "print(f\"hΘ(x) = {optimal_weights[0]} + {optimal_weights[1]}*TV + {optimal_weights[2]}*Radio + {optimal_weights[3]}*Newspaper\")"
   ]
  },
  {
   "cell_type": "markdown",
   "metadata": {},
   "source": [
    "2."
   ]
  },
  {
   "cell_type": "code",
   "execution_count": 242,
   "metadata": {},
   "outputs": [
    {
     "data": {
      "image/png": "[encoded data removed]",
      "text/plain": [
       "<Figure size 432x288 with 1 Axes>"
      ]
     },
     "metadata": {
      "needs_background": "light"
     },
     "output_type": "display_data"
    }
   ],
   "source": [
    "#Scatterplot of actual y values VS predicted y values in the train set\n",
    "predict_train = predict(X_train, optimal_weights)\n",
    "plt.scatter(y_train, predict_train)\n",
    "plt.xlabel('Actual y values')\n",
    "plt.ylabel('Predicted y values')\n",
    "plt.title('Predicted y values VS Actual y values in Train Set)')\n",
    "plt.plot(y_train, y_train, color='red')\n",
    "plt.show()"
   ]
  },
  {
   "cell_type": "code",
   "execution_count": 247,
   "metadata": {},
   "outputs": [
    {
     "name": "stdout",
     "output_type": "stream",
     "text": [
      "The r2 score is 0.9237663364290245\n"
     ]
    }
   ],
   "source": [
    "#r2 score of the train set\n",
    "print(f\"The r2 score is {r2_score(y_train, predict_train)}\")"
   ]
  },
  {
   "cell_type": "code",
   "execution_count": 244,
   "metadata": {},
   "outputs": [
    {
     "data": {
      "image/png": "[encoded data removed]",
      "text/plain": [
       "<Figure size 432x288 with 1 Axes>"
      ]
     },
     "metadata": {
      "needs_background": "light"
     },
     "output_type": "display_data"
    }
   ],
   "source": [
    "#Scatterplot of actual y values VS predicted y values in the test set\n",
    "predict_test = predict(X_test, optimal_weights)\n",
    "plt.scatter(y_test, predict_test)\n",
    "plt.xlabel('Actual y values')\n",
    "plt.ylabel('Predicted y values')\n",
    "plt.title('Predicted y values VS Actual y values in Test Set')\n",
    "plt.plot(y_test, y_test, color='red')\n",
    "plt.show()"
   ]
  },
  {
   "cell_type": "code",
   "execution_count": 246,
   "metadata": {},
   "outputs": [
    {
     "name": "stdout",
     "output_type": "stream",
     "text": [
      "The r2 score is 0.8166386301732071\n"
     ]
    }
   ],
   "source": [
    "#r2 score of the test set\n",
    "print(f\"The r2 score is {r2_score(y_test, predict_test)}\")"
   ]
  },
  {
   "cell_type": "markdown",
   "metadata": {},
   "source": [
    "3."
   ]
  },
  {
   "cell_type": "code",
   "execution_count": 248,
   "metadata": {},
   "outputs": [
    {
     "data": {
      "image/png": "[encoded data removed]",
      "text/plain": [
       "<Figure size 2880x1440 with 1 Axes>"
      ]
     },
     "metadata": {
      "needs_background": "light"
     },
     "output_type": "display_data"
    }
   ],
   "source": [
    "#Solve for the MSE for each iterations\n",
    "#Utilizing sklearn\n",
    "MSE_arr = []\n",
    "for j in range(iterations):\n",
    "    MSE = mean_squared_error(y_train, predict(X_train, we[j]))\n",
    "    MSE_arr.append(MSE)\n",
    "\n",
    "#Plotting it\n",
    "plt.figure(figsize=(40,20))\n",
    "plt.plot(MSE_arr)\n",
    "plt.xlabel('Iterations')\n",
    "plt.ylabel('MSE')\n",
    "plt.title('MSE over Iterations')\n",
    "plt.xticks(np.arange(0, iterations, 1000))\n",
    "plt.show()"
   ]
  },
  {
   "cell_type": "code",
   "execution_count": 249,
   "metadata": {},
   "outputs": [
    {
     "data": {
      "image/png": "[encoded data removed]",
      "text/plain": [
       "<Figure size 1080x576 with 1 Axes>"
      ]
     },
     "metadata": {
      "needs_background": "light"
     },
     "output_type": "display_data"
    }
   ],
   "source": [
    "#Zoomed version of the plot to be able to see the gradient descent clearly\n",
    "#MSE over iterations (first 1000 only)\n",
    "plt.figure(figsize=(15,8))\n",
    "plt.plot(MSE_arr[0:1000])\n",
    "plt.xlabel('Iterations')\n",
    "plt.ylabel('MSE')\n",
    "plt.xticks(np.arange(0, 1000, 100))\n",
    "plt.show()"
   ]
  },
  {
   "cell_type": "markdown",
   "metadata": {},
   "source": [
    "Based on the given plot above, we can infer that 400 iterations is enough to predict the sales. This may not be the optimal number of iterations but we will calculate this later through the r^2 score."
   ]
  },
  {
   "cell_type": "code",
   "execution_count": 250,
   "metadata": {},
   "outputs": [
    {
     "data": {
      "image/png": "[encoded data removed]",
      "text/plain": [
       "<Figure size 1080x576 with 1 Axes>"
      ]
     },
     "metadata": {
      "needs_background": "light"
     },
     "output_type": "display_data"
    },
    {
     "name": "stdout",
     "output_type": "stream",
     "text": [
      "The maximum r^2 score is 0.9237663364290245\n"
     ]
    }
   ],
   "source": [
    "#Calculating the r^2 score for every iteration\n",
    "r2_arr = []\n",
    "for j in range(iterations):\n",
    "    r2 = r2_score(y_train, predict(X_train, we[j]))\n",
    "    r2_arr.append(r2)\n",
    "\n",
    "#Plotting it\n",
    "plt.figure(figsize=(15,8))\n",
    "plt.plot(r2_arr)\n",
    "plt.xlabel('Iterations')\n",
    "plt.ylabel('r^2 score')\n",
    "plt.title('r^2 score over Iterations')\n",
    "plt.yticks(np.arange(0, 1, 0.05))\n",
    "#Marking the maximum r^2 score\n",
    "plt.axhline(y=max(r2_arr), color='red')\n",
    "plt.show()\n",
    "\n",
    "# Printing the max r^2 score\n",
    "print(f\"The maximum r^2 score is {max(r2_arr)}\")"
   ]
  },
  {
   "cell_type": "code",
   "execution_count": 251,
   "metadata": {},
   "outputs": [
    {
     "data": {
      "image/png": "[encoded data removed]",
      "text/plain": [
       "<Figure size 1080x576 with 1 Axes>"
      ]
     },
     "metadata": {
      "needs_background": "light"
     },
     "output_type": "display_data"
    }
   ],
   "source": [
    "#Plotting the cost over iterations\n",
    "plot_costs(co)"
   ]
  },
  {
   "cell_type": "code",
   "execution_count": 252,
   "metadata": {},
   "outputs": [
    {
     "name": "stdout",
     "output_type": "stream",
     "text": [
      "The optimal number of iterations is 2873\n"
     ]
    }
   ],
   "source": [
    "#Determining the optimal number of iterations\n",
    "def optimal_iterations(max_r2, r2_arr):\n",
    "    for j in range(len(r2_arr)):\n",
    "        if r2_arr[j] == max_r2:\n",
    "            return j\n",
    "\n",
    "optimal_num = optimal_iterations(max(r2_arr), r2_arr)\n",
    "print(f\"The optimal number of iterations is {optimal_num}\")"
   ]
  },
  {
   "cell_type": "code",
   "execution_count": 253,
   "metadata": {},
   "outputs": [
    {
     "name": "stdout",
     "output_type": "stream",
     "text": [
      "The cost at the optimal number of iterations is 0.03676364319280351\n",
      "The weights at the optimal number of iterations are [ 0.03007423  0.73276853  0.56093532 -0.04130744]\n",
      "\n",
      "The cost at the last iteration is 0.03676364319280348\n",
      "The weights at the last iteration are [ 0.03007423  0.73276853  0.56093533 -0.04130745]\n"
     ]
    }
   ],
   "source": [
    "#Cost at the optimal number of iterations\n",
    "print(f\"The cost at the optimal number of iterations is {co[optimal_num]}\")\n",
    "#Weights at the optimal number of iterations\n",
    "print(f\"The weights at the optimal number of iterations are {we[optimal_num]}\\n\")\n",
    "\n",
    "#Last iteration\n",
    "print(f\"The cost at the last iteration is {co[-1]}\")\n",
    "print(f\"The weights at the last iteration are {we[-1]}\")"
   ]
  },
  {
   "cell_type": "markdown",
   "metadata": {},
   "source": [
    "It can be seen that there's no significant difference between the r^2 score and cost at the optimal number of iterations which is 2873 and the number of iterations that we chose which is 50, 000. "
   ]
  },
  {
   "cell_type": "markdown",
   "metadata": {},
   "source": [
    "We can improve this by redefining our gradient descent function to stop when the cost score reaches a certain difference threshold."
   ]
  },
  {
   "cell_type": "code",
   "execution_count": 254,
   "metadata": {},
   "outputs": [
    {
     "data": {
      "image/png": "[encoded data removed]",
      "text/plain": [
       "<Figure size 1080x576 with 1 Axes>"
      ]
     },
     "metadata": {
      "needs_background": "light"
     },
     "output_type": "display_data"
    }
   ],
   "source": [
    "#Optimized Gradient Descent Algorithm\n",
    "def optimized_gda(X, y, weights, alpha, iterations, diff_threshold):\n",
    "    last_iter = 0\n",
    "    we = []\n",
    "    co = []\n",
    "\n",
    "    for j in range(iterations):\n",
    "        weights = update_weights(X, y, weights, alpha)\n",
    "        we.append(weights)\n",
    "        cost = compute_cost(X, y, weights)\n",
    "        co.append(cost)\n",
    "\n",
    "        if j > 0 and diff_threshold > abs(co[j] - co[j - 1]):\n",
    "            last_iter = j\n",
    "            break\n",
    "        last_iter = j\n",
    "    \n",
    "    return we, co, last_iter\n",
    "\n",
    "iterations = 50000\n",
    "alpha = 0.01\n",
    "\n",
    "diff_threshold = 1.0e-15\n",
    "\n",
    "we, co, optimal_iterations = optimized_gda(X_train, y_train, w, alpha, iterations, diff_threshold)\n",
    "\n",
    "plot_costs(co)"
   ]
  },
  {
   "cell_type": "markdown",
   "metadata": {},
   "source": [
    "4."
   ]
  },
  {
   "cell_type": "code",
   "execution_count": 255,
   "metadata": {},
   "outputs": [
    {
     "data": {
      "image/png": "[encoded data removed]",
      "text/plain": [
       "<Figure size 1296x432 with 1 Axes>"
      ]
     },
     "metadata": {
      "needs_background": "light"
     },
     "output_type": "display_data"
    }
   ],
   "source": [
    "w = initialize_weights(X_train)\n",
    "\n",
    "iterations = optimal_iterations\n",
    "\n",
    "#Learning rates\n",
    "learning_rates = [0.1, 0.01, 0.001, 0.0001, 0.2]\n",
    "\n",
    "cost_dict = {j:0 for j in learning_rates}\n",
    "error_dict = {j:0 for j in learning_rates}\n",
    "co_dict = {j:[] for j in learning_rates}\n",
    "\n",
    "for alpha in learning_rates:\n",
    "    we, co = grad_descent(X_train, y_train, w, alpha, iterations)\n",
    "    cost_dict[alpha] = co[-1]\n",
    "    from sklearn.metrics import mean_squared_error\n",
    "    error_dict[alpha] = mean_squared_error(y_train, predict(X_train, we[-1]))\n",
    "    co_dict[alpha] = co\n",
    "\n",
    "plt.figure(figsize=(18,6))\n",
    "for alpha in learning_rates:\n",
    "    plt.plot(co_dict[alpha], label = alpha)\n",
    "plt.xlabel('Iterations')\n",
    "plt.ylabel('Cost')\n",
    "plt.title('Cost over iterations for each learning rate')\n",
    "plt.legend()\n",
    "plt.show()"
   ]
  },
  {
   "cell_type": "code",
   "execution_count": 259,
   "metadata": {},
   "outputs": [
    {
     "data": {
      "text/html": [
       "<div>\n",
       "<style scoped>\n",
       "    .dataframe tbody tr th:only-of-type {\n",
       "        vertical-align: middle;\n",
       "    }\n",
       "\n",
       "    .dataframe tbody tr th {\n",
       "        vertical-align: top;\n",
       "    }\n",
       "\n",
       "    .dataframe thead th {\n",
       "        text-align: right;\n",
       "    }\n",
       "</style>\n",
       "<table border=\"1\" class=\"dataframe\">\n",
       "  <thead>\n",
       "    <tr style=\"text-align: right;\">\n",
       "      <th></th>\n",
       "      <th>Learning Rate</th>\n",
       "      <th>Cost</th>\n",
       "      <th>Error</th>\n",
       "    </tr>\n",
       "  </thead>\n",
       "  <tbody>\n",
       "    <tr>\n",
       "      <th>0</th>\n",
       "      <td>0.1000</td>\n",
       "      <td>0.036764</td>\n",
       "      <td>0.073527</td>\n",
       "    </tr>\n",
       "    <tr>\n",
       "      <th>1</th>\n",
       "      <td>0.0100</td>\n",
       "      <td>0.036764</td>\n",
       "      <td>0.073527</td>\n",
       "    </tr>\n",
       "    <tr>\n",
       "      <th>2</th>\n",
       "      <td>0.0010</td>\n",
       "      <td>0.042254</td>\n",
       "      <td>0.084508</td>\n",
       "    </tr>\n",
       "    <tr>\n",
       "      <th>3</th>\n",
       "      <td>0.0001</td>\n",
       "      <td>0.315916</td>\n",
       "      <td>0.631832</td>\n",
       "    </tr>\n",
       "    <tr>\n",
       "      <th>4</th>\n",
       "      <td>0.2000</td>\n",
       "      <td>0.036764</td>\n",
       "      <td>0.073527</td>\n",
       "    </tr>\n",
       "  </tbody>\n",
       "</table>\n",
       "</div>"
      ],
      "text/plain": [
       "   Learning Rate      Cost     Error\n",
       "0         0.1000  0.036764  0.073527\n",
       "1         0.0100  0.036764  0.073527\n",
       "2         0.0010  0.042254  0.084508\n",
       "3         0.0001  0.315916  0.631832\n",
       "4         0.2000  0.036764  0.073527"
      ]
     },
     "execution_count": 259,
     "metadata": {},
     "output_type": "execute_result"
    }
   ],
   "source": [
    "learning_rates = pd.DataFrame({'Learning Rate': list(cost_dict.keys()), 'Cost': list(cost_dict.values()), 'Error': list(error_dict.values())})\n",
    "learning_rates"
   ]
  },
  {
   "cell_type": "markdown",
   "metadata": {},
   "source": [
    "5."
   ]
  },
  {
   "cell_type": "code",
   "execution_count": 260,
   "metadata": {},
   "outputs": [],
   "source": [
    "w = initialize_weights(X_train)\n",
    "\n",
    "iterations = 1_000_000\n",
    "\n",
    "learning_rates = [0.1, 0.01, 0.001, 0.0001, 0.2]\n",
    "\n",
    "cost_dict = {j:0 for j in learning_rates}\n",
    "error_dict = {j:0 for j in learning_rates}\n",
    "co_dict = {j:[] for j in learning_rates}\n",
    "opt_dict = {j:0 for j in learning_rates}\n",
    "\n",
    "diff_threshold = 1.0e-15\n",
    "\n",
    "for alpha in learning_rates:\n",
    "    we, co, optimal_iterations = optimized_gda(X_train, y_train, w, alpha, iterations, diff_threshold)\n",
    "\n",
    "    cost_dict[alpha] = co[-1]\n",
    "    from sklearn.metrics import mean_squared_error\n",
    "    error_dict[alpha] = mean_squared_error(y_train, predict(X_train, we[-1]))\n",
    "    co_dict[alpha] = co\n",
    "    opt_dict[alpha] = optimal_iterations"
   ]
  },
  {
   "cell_type": "code",
   "execution_count": 261,
   "metadata": {},
   "outputs": [
    {
     "data": {
      "image/png": "[encoded data removed]",
      "text/plain": [
       "<Figure size 1296x432 with 1 Axes>"
      ]
     },
     "metadata": {
      "needs_background": "light"
     },
     "output_type": "display_data"
    }
   ],
   "source": [
    "    plt.figure(figsize=(18,6))\n",
    "    for alpha in learning_rates:\n",
    "        plt.plot(co_dict[alpha], label = alpha)\n",
    "    plt.xlabel('Iterations')\n",
    "    plt.ylabel('Cost')\n",
    "    plt.title('Cost over iterations for each learning rate')\n",
    "    plt.legend()\n",
    "    plt.show()"
   ]
  },
  {
   "cell_type": "markdown",
   "metadata": {},
   "source": [
    "6."
   ]
  },
  {
   "cell_type": "code",
   "execution_count": 262,
   "metadata": {},
   "outputs": [
    {
     "name": "stdout",
     "output_type": "stream",
     "text": [
      "The results of OLS is 0.9237663364290245\n",
      "The results of GDA is 0.9237663364290245\n"
     ]
    }
   ],
   "source": [
    "#Ordinary Least Squares Function\n",
    "from sklearn.linear_model import LinearRegression\n",
    "ordinary_least_squares = LinearRegression()\n",
    "ordinary_least_squares.fit(X_train, y_train).coef_\n",
    "\n",
    "#r^2 score for the Ordinary Least Squares and the Gradient Descent Algorithm\n",
    "r2_OLS = r2_score(y_train, ordinary_least_squares.predict(X_train))\n",
    "r2_GDA = r2_arr[-1]\n",
    "\n",
    "print(f\"The results of OLS is {r2_OLS}\")\n",
    "print(f\"The results of GDA is {r2_GDA}\")"
   ]
  }
 ],
 "metadata": {
  "kernelspec": {
   "display_name": "Python 3.10.8 64-bit (microsoft store)",
   "language": "python",
   "name": "python3"
  },
  "language_info": {
   "codemirror_mode": {
    "name": "ipython",
    "version": 3
   },
   "file_extension": ".py",
   "mimetype": "text/x-python",
   "name": "python",
   "nbconvert_exporter": "python",
   "pygments_lexer": "ipython3",
   "version": "3.10.8"
  },
  "orig_nbformat": 4,
  "vscode": {
   "interpreter": {
    "hash": "296d5770da7ae9ae81484ec0ad5af8768932556c5cc58879b92342a2304d2256"
   }
  }
 },
 "nbformat": 4,
 "nbformat_minor": 2
}
